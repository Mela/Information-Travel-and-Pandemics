{
 "cells": [
  {
   "cell_type": "code",
   "execution_count": 39,
   "id": "929a8441",
   "metadata": {},
   "outputs": [],
   "source": [
    "import numpy as np"
   ]
  },
  {
   "cell_type": "code",
   "execution_count": 57,
   "id": "41ccfa65",
   "metadata": {},
   "outputs": [],
   "source": [
    "#Parameters for the modulation\n",
    "alpha = 0.1 #information transmission rate\n",
    "beta = 0.1\n",
    "gamma = 0.1 #Recovery rate\n",
    "N =  100 #population size\n",
    "lam = 0.4 #information fading"
   ]
  },
  {
   "cell_type": "code",
   "execution_count": 70,
   "id": "512c9ea5",
   "metadata": {},
   "outputs": [],
   "source": [
    "#Starting Parameters\n",
    "t0 = 0  #start time\n",
    "tmax = 100 #maximum time\n",
    "S0 = 100 #number of susceptible\n",
    "I0 = 1  #number of infected at start\n",
    "R0 = 0  #number of recovered at start\n",
    "N0 = [0]*2\n",
    "y0 = [S0,I0,R0,N0,N0] #starting conditions\n",
    "n_steps = 100 #number of steps"
   ]
  },
  {
   "cell_type": "code",
   "execution_count": 89,
   "id": "c7fa7abb",
   "metadata": {},
   "outputs": [],
   "source": [
    "def SIR_N(t,arr):\n",
    "    S = arr[0]\n",
    "    I = arr[1]\n",
    "    R = arr[2]\n",
    "    N_before = arr[3]\n",
    "    Niarr = arr[4]\n",
    "    \n",
    "    #calculate N_{<i}=sum_{j=0}^{i-1}N_j\n",
    "    Nsmalleri = [0]\n",
    "    for i in Niarr:\n",
    "        x = i+sum(Nsmalleri)\n",
    "        Nsmalleri.append(x)\n",
    "    Nsmalleri.pop()\n",
    "    #differential equation\n",
    "    for i in range(0,len(Niarr)):\n",
    "        Niarrnew = -alpha*Niarr[i]/N*Nsmalleri[i]+alpha*N_before[i]/N*(N-Nsmalleri[i])-lam*(Niarr[i]-N_before[i])                                                               \n",
    "    Snew = -beta*S/N*I\n",
    "    Inew = beta*S/N*I-gamma*I\n",
    "    Rnew = gamma*I\n",
    "    print([Snew, Inew,Rnew,Niarr,Niarrnew])\n",
    "    return([Snew, Inew,Rnew,Niarr,Niarrnew])\n"
   ]
  },
  {
   "cell_type": "code",
   "execution_count": 90,
   "id": "d6992bd0",
   "metadata": {},
   "outputs": [],
   "source": [
    "def rungekutta4(t0, tmax,y0,n):\n",
    "    \"\"\"\n",
    "    input starting t0, maximum t tmax, start condition array y0\n",
    "    and number of steps n\n",
    "    \"\"\"\n",
    "    h = (tmax-t0)/n  #step size\n",
    "    t = t0\n",
    "    y = y0\n",
    "    yarr = y0\n",
    "    tarr = t0\n",
    "    for i in range(n):\n",
    "        print(y)\n",
    "        k1a = (SIR_N(t,y))\n",
    "        #print(k1a)\n",
    "        k1 = [print(z) for z in k1a]\n",
    "        k2 = h * (SIR_N((t+h/2), [z+x/2 for z in y and x in k1]))\n",
    "        k3 = h * (SIR_N((t+h/2), (y+k2/2)))\n",
    "        k4 = h * (SIR_N((t+h), (y+k3)))\n",
    "        k = (k1+2*k2+2*k3+k4)/6\n",
    "        ynew = y + k\n",
    "        y = ynew\n",
    "        t = t+h\n",
    "        yarr.append(y)\n",
    "        tarr.append(t)\n",
    "    \n",
    "    return(tarr,yarr)"
   ]
  },
  {
   "cell_type": "code",
   "execution_count": 91,
   "id": "cc9a4a4b",
   "metadata": {},
   "outputs": [
    {
     "name": "stdout",
     "output_type": "stream",
     "text": [
      "[100, 1, 0, [0, 0], [0, 0]]\n",
      "[-0.1, 0.0, 0.1, [0, 0], 0.0]\n",
      "-0.1\n",
      "0.0\n",
      "0.1\n",
      "[0, 0]\n",
      "0.0\n"
     ]
    },
    {
     "ename": "NameError",
     "evalue": "name 'x' is not defined",
     "output_type": "error",
     "traceback": [
      "\u001b[0;31m---------------------------------------------------------------------------\u001b[0m",
      "\u001b[0;31mNameError\u001b[0m                                 Traceback (most recent call last)",
      "\u001b[0;32m/tmp/ipykernel_36122/370483387.py\u001b[0m in \u001b[0;36m<module>\u001b[0;34m\u001b[0m\n\u001b[0;32m----> 1\u001b[0;31m \u001b[0mt\u001b[0m\u001b[0;34m,\u001b[0m \u001b[0mSIRN_arr\u001b[0m \u001b[0;34m=\u001b[0m \u001b[0mrungekutta4\u001b[0m\u001b[0;34m(\u001b[0m\u001b[0mt0\u001b[0m\u001b[0;34m,\u001b[0m\u001b[0mtmax\u001b[0m\u001b[0;34m,\u001b[0m\u001b[0my0\u001b[0m\u001b[0;34m,\u001b[0m\u001b[0mn_steps\u001b[0m\u001b[0;34m)\u001b[0m\u001b[0;34m\u001b[0m\u001b[0;34m\u001b[0m\u001b[0m\n\u001b[0m",
      "\u001b[0;32m/tmp/ipykernel_36122/3266745570.py\u001b[0m in \u001b[0;36mrungekutta4\u001b[0;34m(t0, tmax, y0, n)\u001b[0m\n\u001b[1;32m     14\u001b[0m         \u001b[0;31m#print(k1a)\u001b[0m\u001b[0;34m\u001b[0m\u001b[0;34m\u001b[0m\u001b[0m\n\u001b[1;32m     15\u001b[0m         \u001b[0mk1\u001b[0m \u001b[0;34m=\u001b[0m \u001b[0;34m[\u001b[0m\u001b[0mprint\u001b[0m\u001b[0;34m(\u001b[0m\u001b[0mz\u001b[0m\u001b[0;34m)\u001b[0m \u001b[0;32mfor\u001b[0m \u001b[0mz\u001b[0m \u001b[0;32min\u001b[0m \u001b[0mk1a\u001b[0m\u001b[0;34m]\u001b[0m\u001b[0;34m\u001b[0m\u001b[0;34m\u001b[0m\u001b[0m\n\u001b[0;32m---> 16\u001b[0;31m         \u001b[0mk2\u001b[0m \u001b[0;34m=\u001b[0m \u001b[0mh\u001b[0m \u001b[0;34m*\u001b[0m \u001b[0;34m(\u001b[0m\u001b[0mSIR_N\u001b[0m\u001b[0;34m(\u001b[0m\u001b[0;34m(\u001b[0m\u001b[0mt\u001b[0m\u001b[0;34m+\u001b[0m\u001b[0mh\u001b[0m\u001b[0;34m/\u001b[0m\u001b[0;36m2\u001b[0m\u001b[0;34m)\u001b[0m\u001b[0;34m,\u001b[0m \u001b[0;34m[\u001b[0m\u001b[0mz\u001b[0m\u001b[0;34m+\u001b[0m\u001b[0mx\u001b[0m\u001b[0;34m/\u001b[0m\u001b[0;36m2\u001b[0m \u001b[0;32mfor\u001b[0m \u001b[0mz\u001b[0m \u001b[0;32min\u001b[0m \u001b[0my\u001b[0m \u001b[0;32mand\u001b[0m \u001b[0mx\u001b[0m \u001b[0;32min\u001b[0m \u001b[0mk1\u001b[0m\u001b[0;34m]\u001b[0m\u001b[0;34m)\u001b[0m\u001b[0;34m)\u001b[0m\u001b[0;34m\u001b[0m\u001b[0;34m\u001b[0m\u001b[0m\n\u001b[0m\u001b[1;32m     17\u001b[0m         \u001b[0mk3\u001b[0m \u001b[0;34m=\u001b[0m \u001b[0mh\u001b[0m \u001b[0;34m*\u001b[0m \u001b[0;34m(\u001b[0m\u001b[0mSIR_N\u001b[0m\u001b[0;34m(\u001b[0m\u001b[0;34m(\u001b[0m\u001b[0mt\u001b[0m\u001b[0;34m+\u001b[0m\u001b[0mh\u001b[0m\u001b[0;34m/\u001b[0m\u001b[0;36m2\u001b[0m\u001b[0;34m)\u001b[0m\u001b[0;34m,\u001b[0m \u001b[0;34m(\u001b[0m\u001b[0my\u001b[0m\u001b[0;34m+\u001b[0m\u001b[0mk2\u001b[0m\u001b[0;34m/\u001b[0m\u001b[0;36m2\u001b[0m\u001b[0;34m)\u001b[0m\u001b[0;34m)\u001b[0m\u001b[0;34m)\u001b[0m\u001b[0;34m\u001b[0m\u001b[0;34m\u001b[0m\u001b[0m\n\u001b[1;32m     18\u001b[0m         \u001b[0mk4\u001b[0m \u001b[0;34m=\u001b[0m \u001b[0mh\u001b[0m \u001b[0;34m*\u001b[0m \u001b[0;34m(\u001b[0m\u001b[0mSIR_N\u001b[0m\u001b[0;34m(\u001b[0m\u001b[0;34m(\u001b[0m\u001b[0mt\u001b[0m\u001b[0;34m+\u001b[0m\u001b[0mh\u001b[0m\u001b[0;34m)\u001b[0m\u001b[0;34m,\u001b[0m \u001b[0;34m(\u001b[0m\u001b[0my\u001b[0m\u001b[0;34m+\u001b[0m\u001b[0mk3\u001b[0m\u001b[0;34m)\u001b[0m\u001b[0;34m)\u001b[0m\u001b[0;34m)\u001b[0m\u001b[0;34m\u001b[0m\u001b[0;34m\u001b[0m\u001b[0m\n",
      "\u001b[0;31mNameError\u001b[0m: name 'x' is not defined"
     ]
    }
   ],
   "source": [
    "t, SIRN_arr = rungekutta4(t0,tmax,y0,n_steps)"
   ]
  },
  {
   "cell_type": "code",
   "execution_count": null,
   "id": "8d11b9f9",
   "metadata": {},
   "outputs": [],
   "source": []
  },
  {
   "cell_type": "code",
   "execution_count": null,
   "id": "435d0b6e",
   "metadata": {},
   "outputs": [],
   "source": []
  },
  {
   "cell_type": "code",
   "execution_count": null,
   "id": "72ac6d42",
   "metadata": {},
   "outputs": [],
   "source": []
  },
  {
   "cell_type": "code",
   "execution_count": null,
   "id": "f99a5a44",
   "metadata": {},
   "outputs": [],
   "source": []
  }
 ],
 "metadata": {
  "kernelspec": {
   "display_name": "Python 3 (ipykernel)",
   "language": "python",
   "name": "python3"
  },
  "language_info": {
   "codemirror_mode": {
    "name": "ipython",
    "version": 3
   },
   "file_extension": ".py",
   "mimetype": "text/x-python",
   "name": "python",
   "nbconvert_exporter": "python",
   "pygments_lexer": "ipython3",
   "version": "3.9.6"
  }
 },
 "nbformat": 4,
 "nbformat_minor": 5
}
