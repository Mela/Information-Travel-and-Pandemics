{
 "cells": [
  {
   "cell_type": "code",
   "metadata": {
    "cell_id": "6c3cca3a72ac470a817569bb7173c46d",
    "tags": [],
    "deepnote_to_be_reexecuted": false,
    "source_hash": "cf49b957",
    "execution_start": 1657561417772,
    "execution_millis": 67,
    "deepnote_cell_type": "code",
    "deepnote_cell_height": 81
   },
   "source": "## Simulationen laufen lassen und auswerten",
   "execution_count": 1,
   "outputs": []
  },
  {
   "cell_type": "code",
   "metadata": {
    "cell_id": "8bfcb527b3384943ab43614ac98fa510",
    "tags": [],
    "deepnote_to_be_reexecuted": false,
    "source_hash": "b526d356",
    "execution_start": 1657561417839,
    "execution_millis": 1,
    "deepnote_cell_type": "code",
    "deepnote_cell_height": 171
   },
   "source": "# jeweils daten simulieren und vorauswerten; plots erstellen gehören in plots\n\n# funktionen für:\n# - parameter scan, beinhaltet Summe\n# - \n# - Monte Carlo: Nein, zu viel Zeit, außer jemand hat besondere Langeweile",
   "execution_count": 2,
   "outputs": []
  },
  {
   "cell_type": "markdown",
   "source": "## Analysis File\nThis file is used to run and evaluate the simulations.<br>\nFor this are following libraries: <b>numpy</b> and <b>itertools</b> required.\n\n",
   "metadata": {
    "cell_id": "b3b8224ac021485bbc990aa707bf10cf",
    "tags": [],
    "owner_user_id": "3b9ba80c-594d-4b79-94ee-44f4ba44168b",
    "deepnote_cell_type": "markdown",
    "deepnote_cell_height": 130.8000030517578
   }
  },
  {
   "cell_type": "code",
   "metadata": {
    "cell_id": "ff51933f25e547acb9faccb11722efb8",
    "tags": [],
    "deepnote_to_be_reexecuted": false,
    "source_hash": "48884e21",
    "execution_start": 1657561417840,
    "execution_millis": 33,
    "deepnote_cell_type": "code",
    "deepnote_cell_height": 153
   },
   "source": "import numpy as np\nimport pickle\nfrom itertools import product\nfrom functools import partial\nimport import_ipynb",
   "execution_count": 3,
   "outputs": []
  },
  {
   "cell_type": "code",
   "metadata": {
    "cell_id": "5592c7abe9d24f2993a0ea1f3e9ccf32",
    "tags": [],
    "deepnote_to_be_reexecuted": false,
    "source_hash": "9c1b2331",
    "execution_start": 1657561417873,
    "execution_millis": 1396,
    "deepnote_cell_type": "code",
    "deepnote_cell_height": 186.8000030517578
   },
   "source": "from awareness import awareness_SIR\nfrom simulation import simulate_rk4",
   "execution_count": 4,
   "outputs": [
    {
     "name": "stdout",
     "text": "importing Jupyter notebook from awareness.ipynb\nimporting Jupyter notebook from simulation.ipynb\nimporting Jupyter notebook from rk4.ipynb\nimporting Jupyter notebook from plots.ipynb\n",
     "output_type": "stream"
    }
   ]
  },
  {
   "cell_type": "code",
   "metadata": {
    "cell_id": "68ab61fd62174d2c9de15577b2b0d0a5",
    "tags": [],
    "deepnote_to_be_reexecuted": false,
    "source_hash": "5b0f605f",
    "execution_start": 1657561418507,
    "execution_millis": 1,
    "deepnote_cell_type": "code",
    "deepnote_cell_height": 369
   },
   "source": "def axis_product(params: list, default_params: list)->tuple:\n    \"\"\"\n    returnes combinations for parameters, varying one axis at a time\n    params: list containing lists for different parameter values\n    default_params: default values to use when another axis is being varied\n    \"\"\"\n    combinations = []\n    combinations.append(default_params)\n    for i in range(len(default_params)):\n        options = [params[j] if j == i else [default_params[j]] for j in range(len(default_params))]\n        combinations += [x for x in product(*options)]\n    combinations_filtered = []\n    for comb in combinations:\n        if comb not in combinations_filtered:\n            combinations_filtered.append(comb)\n    return combinations_filtered\n",
   "execution_count": 5,
   "outputs": []
  },
  {
   "cell_type": "code",
   "metadata": {
    "cell_id": "53ecf3f7af5549378c6862d866c83f88",
    "tags": [],
    "deepnote_to_be_reexecuted": false,
    "source_hash": "96eddbcb",
    "execution_start": 1657561418533,
    "execution_millis": 1,
    "deepnote_cell_type": "code",
    "deepnote_cell_height": 135
   },
   "source": "def str_name(param_names: list, params: list)->str:\n    s = '___'.join([f'{param_names[i]}_{params[i]:.2e}' for i in range(len(params))]) + '.pkl'\n    return s\n",
   "execution_count": 6,
   "outputs": []
  },
  {
   "cell_type": "code",
   "metadata": {
    "cell_id": "b6ae223587a7438e91aecfdc68a374f0",
    "tags": [],
    "deepnote_to_be_reexecuted": false,
    "source_hash": "bee02326",
    "execution_start": 1657561418534,
    "execution_millis": 0,
    "deepnote_cell_type": "code",
    "deepnote_cell_height": 117
   },
   "source": "def save_data(data, fname):\n    with open(fname, \"wb+\") as f:\n        pickle.dump(data, f)",
   "execution_count": 7,
   "outputs": []
  },
  {
   "cell_type": "code",
   "metadata": {
    "cell_id": "16162d9527714fc1bb0ee7bcf0f3385e",
    "tags": [],
    "deepnote_to_be_reexecuted": false,
    "source_hash": "a49b406f",
    "execution_start": 1657561418535,
    "execution_millis": 0,
    "deepnote_cell_type": "code",
    "deepnote_cell_height": 153
   },
   "source": "def load_data(fname):\n    with open(fname, 'rb') as f:\n        data = pickle.load(f)\n    t, y = data\n    return t, y",
   "execution_count": 8,
   "outputs": []
  },
  {
   "cell_type": "code",
   "metadata": {
    "cell_id": "c2fd9d0e65854000b9af0ba263bb16eb",
    "tags": [],
    "deepnote_to_be_reexecuted": false,
    "source_hash": "5d06a919",
    "execution_start": 1657561418535,
    "execution_millis": 1,
    "owner_user_id": "824824b9-26fb-48d4-a647-bc29df407f3a",
    "deepnote_cell_type": "code",
    "deepnote_cell_height": 1053
   },
   "source": "def run_sensitivity_sweep(infection_params, awareness_params, awareness_params_variation, simulation_params):\n\n    beta0, gamma0 = infection_params\n    alpha0, omega0, lam0, rho0, kappa0 = awareness_params\n    alpha, omega, lam, rho, kappa = awareness_params_variation\n    grid_size, info_compartments, tmax, dt = simulation_params\n    \n    sweep_params = axis_product(awareness_params_variation, awareness_params)\n\n    y0 = np.zeros(shape=(grid_size, grid_size, 3, info_compartments))  # start parameters\n    y0[:,:,0,-1] = 1  # everyone is susceptible, no awareness at the start\n\n    mid = int((grid_size-1)/2)\n    y0[mid, mid, 1, -1] = 1  # one infection in the middle\n    y0[mid, mid, 0, -1] = 0  # remove infected from susceptible pool\n\n    model = partial(awareness_SIR, beta=beta0, gamma=gamma0)\n\n    param_names = ['alpha', 'omega', 'lam', 'rho', 'kappa']\n\n    # simulate different scenarios\n\n    for i, param_set in enumerate(sweep_params):\n        print(f'{i+1}/{len(sweep_params)}:   ', end='')\n        params_dict = dict(zip(param_names, param_set))\n        filename = 'data/' + str_name(param_names, param_set)\n        simulate_rk4(model, y0, params_dict, tmax, dt, fname=filename)\n\n    # analyze\n\n    for i in range(len(awareness_params)):  # iterate over different parameters to vary\n        options = [awareness_params_variation[j] if j == i else [awareness_params[j]] for j in range(len(awareness_params))]\n        combinations = [x for x in product(*options)]\n\n        param_variation = []\n        concurrent_infections = []\n\n        for param_set in combinations:\n            params_dict = dict(zip(param_names, param_set))\n            filename = 'data/' + str_name(param_names, param_set)\n            t, y = load_data(filename)\n            infections = np.average(np.sum(y[:, :, 1, :], axis=3), axis=(0, 1))\n            max_infections = np.average(infections)\n\n            param_variation.append(param_set[i])\n            concurrent_infections.append(max_infections)\n        \n        data = (param_variation, concurrent_infections)\n        save_data(data, f'data/variation_{param_names[i]}.pkl')\n\n\n\n    print('done')\n\n",
   "execution_count": 9,
   "outputs": []
  },
  {
   "cell_type": "code",
   "metadata": {
    "cell_id": "e25feb9bce6e436dade6238700d8376d",
    "tags": [],
    "deepnote_to_be_reexecuted": false,
    "source_hash": "c3b49251",
    "execution_start": 1657561418539,
    "execution_millis": 2,
    "owner_user_id": "76ddf6ac-32b1-453b-8dad-1d2a6f4837cb",
    "deepnote_cell_type": "code",
    "deepnote_cell_height": 585
   },
   "source": "def run_information_simulation(infection_params, awareness_params, simulation_params):\n    beta0, gamma0 = infection_params\n    alpha0, omega0, lam0, rho0, kappa0 = awareness_params\n    grid_size, info_compartments, tmax, dt = simulation_params\n    \n    y0 = np.zeros(shape=(grid_size, grid_size, 3, info_compartments))  # start parameters\n    y0[:,:,0,-1] = 1  # everyone is susceptible, no awareness at the start\n\n    mid = int((grid_size-1)/2)\n    y0[mid, mid, 0, 0] = 1  # one aware dot in the middle\n    y0[mid, mid, 0, -1] = 0  # remove unaware from susceptible pool\n\n    model = partial(awareness_SIR, beta=beta0, gamma=gamma0)\n\n    param_names = ['alpha', 'omega', 'lam', 'rho', 'kappa']\n\n    # simulating\n\n    params_dict = dict(zip(param_names, awareness_params))\n    filename = 'data/information_only___' + str_name(param_names, awareness_params)\n    simulate_rk4(model, y0, params_dict, tmax, dt, fname=filename)\n\n    # analyze\n\n    t, y = load_data(filename)\n    data_av = np.average(y[:, :, :, :], axis=(0, 1)) # average over grid\n    awareness_level = g2(rho0, data_av[0])  # everyone is susceptible, there are no infections\n    save_data(((t, awareness_level), 'data/awareness.pkl'))\n",
   "execution_count": 10,
   "outputs": []
  },
  {
   "cell_type": "markdown",
   "source": "<a style='text-decoration:none;line-height:16px;display:flex;color:#5B5B62;padding:10px;justify-content:end;' href='https://deepnote.com?utm_source=created-in-deepnote-cell&projectId=ac0f8ce2-3132-47be-a4d1-6216636e93ff' target=\"_blank\">\n<img alt='Created in deepnote.com' style='display:inline;max-height:16px;margin:0px;margin-right:7.5px;' src='data:image/svg+xml;base64,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' > </img>\nCreated in <span style='font-weight:600;margin-left:4px;'>Deepnote</span></a>",
   "metadata": {
    "tags": [],
    "created_in_deepnote_cell": true,
    "deepnote_cell_type": "markdown"
   }
  }
 ],
 "nbformat": 4,
 "nbformat_minor": 2,
 "metadata": {
  "orig_nbformat": 2,
  "deepnote": {},
  "deepnote_notebook_id": "8f38d512-78fc-4a25-b858-c6f25e07f100",
  "deepnote_execution_queue": []
 }
}