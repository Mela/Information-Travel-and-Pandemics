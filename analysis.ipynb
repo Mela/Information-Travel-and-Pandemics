{
 "cells": [
  {
   "cell_type": "markdown",
   "source": "## Analysis File\n\nFor the functionality in this file are following libraries: <b>numpy, pickle, itertools, typing, collections </b> and <b>functools</b> required. Also self implemented functions from <b> rk4</b> and <b> awareness</b> are needed. \n\nThis file is used to run and evaluate all simulations. This includes simulation for <b> rungekutta4, default SIR</b> and <b> information</b>. For this data has to be loaded from the saved files. The results of the simulations are saved in additional files. The files are stored in the <b> data</b>-folder. The naming pattern includes the corresponding function names and parameters. <br>\nDetailed aspects and code-design decisions are being explained in the functions itself.\n",
   "metadata": {
    "cell_id": "b3b8224ac021485bbc990aa707bf10cf",
    "tags": [],
    "deepnote_app_coordinates": {
     "x": 0,
     "y": 1,
     "w": 12,
     "h": 5
    },
    "deepnote_cell_type": "markdown",
    "deepnote_cell_height": 234.34375
   }
  },
  {
   "cell_type": "code",
   "metadata": {
    "cell_id": "ff51933f25e547acb9faccb11722efb8",
    "tags": [],
    "deepnote_to_be_reexecuted": false,
    "source_hash": "2393a5ea",
    "execution_start": 1658301231892,
    "execution_millis": 385,
    "deepnote_cell_type": "code",
    "deepnote_cell_height": 225
   },
   "source": "# library imports\nimport numpy as np\nimport pickle\nfrom itertools import product\nfrom typing import Union\nfrom collections.abc import Callable\nfrom functools import partial\nimport import_ipynb\nfrom scipy.interpolate import interp1d",
   "execution_count": null,
   "outputs": []
  },
  {
   "cell_type": "code",
   "metadata": {
    "cell_id": "36cf13df7330403cbad61a3315ff4807",
    "tags": [],
    "deepnote_to_be_reexecuted": false,
    "source_hash": "a460d91a",
    "execution_start": 1658300842915,
    "execution_millis": 846,
    "deepnote_cell_type": "code",
    "deepnote_cell_height": 166.1875
   },
   "source": "# local imports\nfrom rk4 import rk4\nfrom awareness import awareness_SIR, g_awareness\nfrom input_output import str_name, save_data, load_data, parse_params",
   "execution_count": null,
   "outputs": [
    {
     "name": "stdout",
     "text": "importing Jupyter notebook from rk4.ipynb\n",
     "output_type": "stream"
    }
   ]
  },
  {
   "cell_type": "code",
   "metadata": {
    "cell_id": "6e8cfea566e14f7d955291f15f5ca461",
    "tags": [],
    "deepnote_to_be_reexecuted": false,
    "source_hash": "85e87d9d",
    "execution_start": 1658300845397,
    "execution_millis": 1,
    "deepnote_cell_type": "code",
    "deepnote_cell_height": 117
   },
   "source": "def awareness_param_names() -> list:\n    \"\"\"Returns the names for the awareness parameters to convert lists into dictionaries.\"\"\"\n    return ['alpha', 'omega', 'lam', 'rho', 'kappa']",
   "execution_count": null,
   "outputs": []
  },
  {
   "cell_type": "code",
   "metadata": {
    "cell_id": "c5bd6fed073f457a8b1d8ab10f7186b9",
    "tags": [],
    "deepnote_to_be_reexecuted": false,
    "source_hash": "a13fabb",
    "execution_start": 1658305017718,
    "execution_millis": 0,
    "deepnote_cell_type": "code",
    "deepnote_cell_height": 387
   },
   "source": "def set_model_parameters(model, t, **kwargs) -> Callable:\n    \"\"\"\n    Sets the model parameters which might be time dependent.\n\n    If the parameters are time dependant a linear interpolation is used\n    (because Runge-Kutta also interpolates between the time steps).\n    Otherwise a function is generated which returnes a constant value.\n    returns: the model with parameters set\n    \"\"\"\n    for key, val in kwargs.items():\n        if isinstance(val, np.ndarray):\n            kwargs[key] = interp1d(t, val, kind='linear')\n        else:\n            def f(t, v):\n                return v\n            kwargs[key] = partial(f, v=val)  # partial necessary to freeze val into function\n    new_model = partial(model, **kwargs)\n    return new_model",
   "execution_count": null,
   "outputs": []
  },
  {
   "cell_type": "code",
   "metadata": {
    "cell_id": "f4b31e94853042668d7ee0d2279bcd55",
    "tags": [],
    "deepnote_to_be_reexecuted": false,
    "source_hash": "eb5e4fc2",
    "execution_start": 1658300847648,
    "execution_millis": 3,
    "deepnote_cell_type": "code",
    "deepnote_cell_height": 297
   },
   "source": "def simulate_rk4(model: Callable[[float, np.ndarray], np.ndarray], y0: np.ndarray, params_dict: dict,\\\n    t: np.ndarray, fname='test_data.txt', save=True) -> None:\n    \"\"\"\n    Simulates using the Runge-Kutta method and by default saves results.\n    returns: time and y (grid with compartments over time)\n    \"\"\"\n    print(params_dict)\n    p_model = set_model_parameters(model, t, **params_dict)\n    t, y = rk4(p_model, y0, t)\n    data = (t, y)\n    if save:\n        save_data(data, fname)\n    return t, y",
   "execution_count": null,
   "outputs": []
  },
  {
   "cell_type": "code",
   "metadata": {
    "cell_id": "17723021e8734a4cb148a6951e77c00c",
    "tags": [],
    "deepnote_to_be_reexecuted": false,
    "source_hash": "d83058f2",
    "execution_start": 1658300848491,
    "execution_millis": 4,
    "deepnote_cell_type": "code",
    "deepnote_cell_height": 117
   },
   "source": "def check_probability_conserved(y: np.ndarray) -> None:\n    \"\"\"Checks whether the sum of all compartments is one for each point in time.\"\"\"\n    print(f'probability conserved: {np.array([np.sum(y[i, j], axis=(0, 1)).all() for i in range(y.shape[0]) for j in range(y.shape[1])]).all()}')",
   "execution_count": null,
   "outputs": []
  },
  {
   "cell_type": "code",
   "metadata": {
    "cell_id": "68ab61fd62174d2c9de15577b2b0d0a5",
    "tags": [],
    "deepnote_to_be_reexecuted": false,
    "source_hash": "5b0f605f",
    "execution_start": 1658300852002,
    "execution_millis": 4,
    "deepnote_cell_type": "code",
    "deepnote_cell_height": 405
   },
   "source": "def axis_product(params: list, default_params: list) -> list:\n    \"\"\"\n    Determines combinations for parameters, varying one axis at a time.\n\n    params: list containing lists for different parameter values\n    default_params: default values to use when another axis is being varied\n    returns: list containing different sets of parameters\n    \"\"\"\n    combinations = []\n    combinations.append(default_params)\n    for i in range(len(default_params)):\n        options = [params[j] if j == i else [default_params[j]] for j in range(len(default_params))]\n        combinations += [x for x in product(*options)]\n    combinations_filtered = []\n    for comb in combinations:\n        if comb not in combinations_filtered:\n            combinations_filtered.append(comb)\n    return combinations_filtered\n",
   "execution_count": null,
   "outputs": []
  },
  {
   "cell_type": "code",
   "metadata": {
    "cell_id": "d48d8edd856a4f36829a7b9c2e70a5ec",
    "tags": [],
    "deepnote_cell_type": "code",
    "deepnote_cell_height": 408
   },
   "source": "def get_initial_condition(grid_size: int, info_compartments: int) -> np.ndarray:\n    \"\"\"\n    Creates an array containing the initial conditions for the simulation.\n    \n    grid_size: number of individuals along one axis of the grid\n    info_compartmenes: number of compartments for the awareness\n    returns: numpy array with initial conditions for the simulation\n\n    Every individual is assumed to be susceptible and without any awareness.\n    Then, one individual, located in the middle of the grid, is moved to the infected compartment\n    (while still keeping the uninformed state.)\n    \"\"\"\n    y0 = np.zeros(shape=(grid_size, grid_size, 3, info_compartments))  # start parameters\n    y0[:,:,0,-1] = 1  # everyone is susceptible, no awareness at the start\n\n    mid = int((grid_size-1)/2)\n    y0[mid, mid, 1, -1] = 1  # one infection in the middle\n    y0[mid, mid, 0, -1] = 0  # remove infected from susceptible pool\n\n    return y0",
   "execution_count": null,
   "outputs": []
  },
  {
   "cell_type": "code",
   "metadata": {
    "cell_id": "fd32b9b67ca74563ac75377f4338f502",
    "tags": [],
    "deepnote_to_be_reexecuted": false,
    "source_hash": "193a1c8b",
    "execution_start": 1657729759366,
    "execution_millis": 0,
    "owner_user_id": "76ddf6ac-32b1-453b-8dad-1d2a6f4837cb",
    "deepnote_cell_type": "code",
    "deepnote_cell_height": 621
   },
   "source": "def run_simulation(infection_params: list, awareness_params: list, simulation_params: list, name: str) -> None:\n    \"\"\"\n    Sets up and runs the simulation for the given parameters and saves it afterwards.\n\n    infection_params: list of beta and gamma, modeling the disease itself\n    awareness_params: list of alpha, omega, lambda, rho and kappa, modelling the information spread\n    simulation_params: list with the grid size, the states of the compartements and the time t\n    \"\"\"\n\n    # unpack parameters\n    beta0, gamma0 = infection_params\n    alpha0, omega0, lam0, rho0, kappa0 = awareness_params\n    grid_size, info_compartments, t = simulation_params\n\n    # setup model and initial conditions\n    y0 = get_initial_condition(grid_size, info_compartments)\n    model = set_model_parameters(awareness_SIR, t, beta=beta0, gamma=gamma0)\n    \n    # preparate\n    params_dict = dict(zip(awareness_param_names(), awareness_params))\n    filename = f'data/{name}_simulation___.' + str_name(awareness_param_names(), parse_params(awareness_params))\n    \n    # simulate\n    simulate_rk4(model, y0, params_dict, t, fname=filename)\n\n    # analyze \n    # t, y = load_data(filename)\n    # data_av = np.average(y[:, :, :, :], axis=(0, 1)) # average over grid\n    # awareness_level = g_awareness(rho0, data_av[0])  # everyone is susceptible, there are no infections\n    # save_data((t, awareness_level), f'data/{name}_simulation_awareness.pkl')\n",
   "execution_count": null,
   "outputs": []
  },
  {
   "cell_type": "code",
   "metadata": {
    "cell_id": "e25feb9bce6e436dade6238700d8376d",
    "tags": [],
    "deepnote_to_be_reexecuted": false,
    "source_hash": "6628789f",
    "execution_start": 1657729759373,
    "execution_millis": 0,
    "deepnote_cell_type": "code",
    "deepnote_cell_height": 783
   },
   "source": "def run_information_simulation(infection_params: list, awareness_params: list, simulation_params: list) -> None:\n    \"\"\"\n    Simulate how information/awareness spreads through the network and decays over time\n    when no infections are present.\n    infection_params: list of beta and gamma, modeling the disease itself\n    awareness_params: list of alpha, omega, lambda, rho and kappa, modelling the information spread\n    simulation_params: list with the grid size, the states of the compartements and the time t\n    \"\"\"\n    \n    # unpack parameters\n    beta0, gamma0 = infection_params\n    alpha0, omega0, lam0, rho0, kappa0 = awareness_params\n    grid_size, info_compartments, t = simulation_params\n    \n    # setup initial conditions\n    y0 = np.zeros(shape=(grid_size, grid_size, 3, info_compartments))  # start parameters\n    y0[:,:,0,-1] = 1  # everyone is susceptible, no awareness at the start\n\n    mid = int((grid_size-1)/2)\n    y0[mid, mid, 0, 0] = 1  # one aware dot in the middle\n    y0[mid, mid, 0, -1] = 0  # remove unaware from susceptible pool\n\n    # setup model\n    model = set_model_parameters(awareness_SIR, t, beta=beta0, gamma=gamma0)\n\n    # prepare simulation\n    params_dict = dict(zip(awareness_param_names(), awareness_params))\n    filename = 'data/information_only___' + str_name(awareness_param_names(), awareness_params)\n\n    # simulate\n    simulate_rk4(model, y0, params_dict, t, fname=filename)\n\n    # analyze\n    t, y = load_data(filename)\n    data_av = np.average(y[:, :, :, :], axis=(0, 1)) # average over grid\n    awareness_level = g_awareness(rho0, data_av[0])  # everyone is susceptible, there are no infections\n\n    # save results\n    save_data((t, awareness_level), 'data/awareness.pkl')\n",
   "execution_count": null,
   "outputs": []
  },
  {
   "cell_type": "code",
   "metadata": {
    "cell_id": "c2fd9d0e65854000b9af0ba263bb16eb",
    "tags": [],
    "deepnote_to_be_reexecuted": false,
    "source_hash": "cd90180c",
    "execution_start": 1657729759367,
    "execution_millis": 0,
    "deepnote_cell_type": "code",
    "deepnote_cell_height": 1503
   },
   "source": "def run_sensitivity_sweep(infection_params: list, awareness_params: list,\\\n    awareness_params_variation: list, simulation_params: list, folder: str) -> None:\n    \"\"\"\n    Varies one parameter at a time and records the maximum number of simulateous infections (sensitvity analysis).\n    \n    infection_params: list of beta and gamma, modeling the disease itself\n    awareness_params: list of alpha, omega, lambda, rho and kappa, modelling the information spread\n    awareness_params_variation: list with ranges in which the parameters shall be modeled\n    simulation_params: list with the grid size, the states of the compartements and the time t\n\n    \"\"\"\n\n    # unpack parameters\n    beta0, gamma0 = infection_params\n    alpha0, omega0, lam0, rho0, kappa0 = awareness_params\n    alpha, omega, lam, rho, kappa = awareness_params_variation\n    grid_size, info_compartments, t = simulation_params\n\n    # setup model and initial conditions\n    y0 = get_initial_condition(grid_size, info_compartments)\n    model = model = set_model_parameters(awareness_SIR, t, beta=beta0, gamma=gamma0)\n    sweep_params = axis_product(awareness_params_variation, awareness_params)\n\n    # preparate\n    sim_results = {}\n\n    # simulate different parameter sets\n    for i, param_set in enumerate(sweep_params):\n        print(f'{i+1}/{len(sweep_params)}:   ', end='')  # print progress\n        \n        # preparate\n        params_dict = dict(zip(awareness_param_names(), param_set))\n        filename = f'{folder}/' + str_name(awareness_param_names(), param_set)\n\n        # simulate\n        t, y = simulate_rk4(model, y0, params_dict, t, fname=filename, save=False)\n\n        # analyze\n        infections = np.average(np.sum(y[:, :, 1, :], axis=2), axis=(0, 1))\n        max_infections = np.max(infections)\n        if max_infections == infections[-1]:\n            print('WARNING: the peak of infections has not been reached, increase simulation time!')\n        data = (param_set, [max_infections])\n        sim_results[str(param_set)] = data\n\n    # group results and save them\n\n    # default params\n    param_set = awareness_params\n    filename = f'{folder}' + str_name(awareness_param_names(), param_set)\n    data = sim_results[str(param_set)]\n    save_data(data, f'{folder}/variation_default.pkl')\n\n    # combine the various runs into useful chunks of parameter variation\n\n    # iterate over different parameters to vary\n    for i in range(len(awareness_params)):\n        options = [awareness_params_variation[j] if j == i else [awareness_params[j]] for j in range(len(awareness_params))]\n        combinations = [x for x in product(*options)]\n\n        # place to store the results\n        param_variation = []\n        concurrent_infections = []\n\n        # get data from each related run\n        for param_set in combinations:\n            filename = f'{folder}' + str_name(awareness_param_names(), param_set)\n\n            params, max_infections = sim_results[str(param_set)]\n\n            param_variation.append(param_set[i])\n            concurrent_infections.append(max_infections[0])\n\n        # save results\n        data = (param_variation, concurrent_infections)\n        save_data(data, f'{folder}/variation_{awareness_param_names()[i]}.pkl')\n\n    print('done')\n\n",
   "execution_count": null,
   "outputs": []
  },
  {
   "cell_type": "markdown",
   "source": "<a style='text-decoration:none;line-height:16px;display:flex;color:#5B5B62;padding:10px;justify-content:end;' href='https://deepnote.com?utm_source=created-in-deepnote-cell&projectId=ac0f8ce2-3132-47be-a4d1-6216636e93ff' target=\"_blank\">\n<img alt='Created in deepnote.com' style='display:inline;max-height:16px;margin:0px;margin-right:7.5px;' src='data:image/svg+xml;base64,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' > </img>\nCreated in <span style='font-weight:600;margin-left:4px;'>Deepnote</span></a>",
   "metadata": {
    "tags": [],
    "created_in_deepnote_cell": true,
    "deepnote_cell_type": "markdown"
   }
  }
 ],
 "nbformat": 4,
 "nbformat_minor": 2,
 "metadata": {
  "orig_nbformat": 2,
  "deepnote": {},
  "deepnote_notebook_id": "8f38d512-78fc-4a25-b858-c6f25e07f100",
  "deepnote_execution_queue": [],
  "deepnote_app_layout": "article"
 }
}