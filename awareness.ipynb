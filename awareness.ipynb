{
 "cells": [
  {
   "cell_type": "code",
   "metadata": {
    "cell_id": "ef6388a69998484a9e978d011e151fb4",
    "tags": [],
    "deepnote_to_be_reexecuted": false,
    "source_hash": "3a572551",
    "execution_start": 1657548092404,
    "execution_millis": 0,
    "deepnote_cell_type": "code",
    "deepnote_cell_height": 81
   },
   "source": "## awareness-SIR modell und Funktionen",
   "execution_count": null,
   "outputs": []
  },
  {
   "cell_type": "markdown",
   "source": "## Awareness File\nThis file includes the Awareness-SIR Model and the needed helper functions.<br> This file needs to import the <b>numpy</b> library to run the functions correctly. <br>\nThe Awareness of an individual is calculeted with the <b>awareness_SIR </b>- function.\nDetaild aspects and code-design decisions are being explained in the function itself.\nTo get the final awareness values functions to calculate the susceptibility and g2(??) are also needed.",
   "metadata": {
    "cell_id": "745bfb9d961f435bb507a555db2c4a63",
    "tags": [],
    "deepnote_cell_type": "markdown",
    "deepnote_cell_height": 198
   }
  },
  {
   "cell_type": "code",
   "metadata": {
    "cell_id": "200fc4341f254d29ab85fbd7be58a26f",
    "tags": [],
    "deepnote_to_be_reexecuted": false,
    "source_hash": "d2a2c94c",
    "execution_start": 1657548092439,
    "execution_millis": 1,
    "deepnote_cell_type": "code",
    "deepnote_cell_height": 81
   },
   "source": "# TODO: implement self isolation as continuous parameter ",
   "execution_count": null,
   "outputs": []
  },
  {
   "cell_type": "code",
   "metadata": {
    "tags": [],
    "deepnote_to_be_reexecuted": false,
    "source_hash": "c2602aa8",
    "execution_start": 1657548092440,
    "execution_millis": 0,
    "cell_id": "00006-ab986482-cac9-4656-ae6b-9b5bb66ff4af",
    "deepnote_cell_type": "code",
    "deepnote_cell_height": 81
   },
   "source": "import numpy as np",
   "execution_count": null,
   "outputs": []
  },
  {
   "cell_type": "code",
   "metadata": {
    "cell_id": "95b9d47e828d442590ea8d807ec66212",
    "tags": [],
    "deepnote_to_be_reexecuted": false,
    "source_hash": "ea02c56b",
    "execution_start": 1657548092441,
    "execution_millis": 0,
    "deepnote_cell_type": "code",
    "deepnote_cell_height": 171
   },
   "source": "def susceptibility(rho: float, n: int) -> np.ndarray:  # factor which reduces susceptibility based on awareness\n    # awareness is reduced by a constant factor for each distance it traveles\n    # the last slot is for no awareness -> no susceptibility reduction\n    sus = np.array([*[1-rho**i for i in range(n-1)], 1])\n    return sus\n",
   "execution_count": null,
   "outputs": []
  },
  {
   "cell_type": "code",
   "metadata": {
    "cell_id": "0e6ffa2b33054ad0b8addb78ba7aefb4",
    "tags": [],
    "deepnote_to_be_reexecuted": false,
    "source_hash": "5e57c23b",
    "execution_start": 1657548092441,
    "execution_millis": 1,
    "deepnote_cell_type": "code",
    "deepnote_cell_height": 117
   },
   "source": "def g2(rho, S):\n    sus = susceptibility(rho, S.shape[0])\n    return np.sum(S*(1-sus[:, None]), axis=0)",
   "execution_count": null,
   "outputs": []
  },
  {
   "cell_type": "code",
   "metadata": {
    "cell_id": "a63b887422e24043ad23d906604c5b0b",
    "tags": [],
    "deepnote_to_be_reexecuted": false,
    "source_hash": "7276d224",
    "execution_start": 1657548092451,
    "execution_millis": 8,
    "owner_user_id": "824824b9-26fb-48d4-a647-bc29df407f3a",
    "deepnote_cell_type": "code",
    "deepnote_cell_height": 3303
   },
   "source": "def awareness_SIR(t: float,y: np.ndarray, alpha: float, beta: float, gamma: float,\\\n    omega: float, lam: float, rho: float, kappa: float) -> np.ndarray:\n    \"\"\"\n    differential SIR model\n    working on a grid\n    y: function value, here data structure with grid, 3rd row describes SIR\n    return: dy\n    \"\"\"\n    dy = np.zeros(shape=y.shape)  # change in y, initialized as empty array to be filled\n\n    # indexing: dy[i, j, k, m]\n    # i, j: row, column of individual on grid\n    # k: infection state: S,I,R\n    # m: awareness state: 0,1,2,...,n;np.inf  (the last state is the compleatly unaware state,\n    # which is the state at the beginning and the state beneath a cutoff value given by the maximal\n    # length of an awareness chain)\n    # Each individual (at a location (i, j) is in a superposition of different states.\n    # Each of the state is associated with a probability of being in that state, which is stored in y[i,j,k,m]\n    # The probability for all states together must equal one for each individual.\n\n    # because of correlations between the SIR state and the awareness state,\n    # all possible states (combinations of SIR state and awareness state) have to be kept seperatly\n    # Example: If I'm statistically infected, I might notice the infection and thus have a high awareness,\n    # but this high awareness is coupled to my infection and thus won't lower the probability\n    # of me becomimg infected)\n\n    # Because every possible state is being tracked, a good check will be the sum of the states\n    # for each individual, whcih must be equal to one (the probability of finding an individual\n    # in any possible state must be 1)\n\n    # Note: This implementation is to be used with a small step size as probabilities don't add up\n    # for large probabilities.\n    # Example: I have two contacts who can each infect me with a probability of 0.4 (40%). \n    # Then the probability of me beconing infected is\n    # 1 - (1-0.4)*(1-0.4) = 1 - 0.6^2 = 0.64 (=64% and not 80%)\n    # for small probabilities (-> small time steps) one can add the probabilities:\n    # 1 - (1-alpha)*(1-beta) = 1 - (1 - alpha - beta + alpha*beta) = alpha + beta - alpha*beta,\n    # which is approximately alpha + beta, if alpha*beta is sufficiently small so it can be neglected\n    \n    # indexing in python (ignoring data types):\n    # Example:\n    # data = np.array(\n    #     [[1, 2, 3],\n    #      [4, 5, 6],\n    #      [7, 8, 9]]\n    # )\n    #\n    # each axis (also called index or dimension) of the array is separated by a comma when indexing\n    #\n    # data[i, j] selects the data at the location (i, j), which can in itself be an array:\n    # \n    # data[0, 0] returns 1  (indexing starts at zero)\n    # data[0, 1] returns 2\n    #\n    # data[0] returns [1, 2, 3]  (the first row)\n    # \n    # to get the values stored in the last column we can use\n    # data[:, 2] = [3, 6, 9]  (for each row return the value at location 2)\n    # \n    # data[0, 1:] returns [2, 3]  (for row zero return the values starting at location 1 (included))\n    # data[0, :2] returns [1, 2]  (for row zero return the values until location 2 (not included))\n    # data[0, :-1] returns [1, 2] (for row zero return the values until the last location (not included))\n    #\n    # operations on numpy arrays are done element wise\n    # data[-1] - data[:, -1] = [7, 8, 9] - [3, 6, 9] = [4, 2, 0]\n    # 2*data[1:, :-1] = 2* [[4, 5], [7, 8]] = [[8, 10], [14, 16]]\n    #\n    # use -1 to access the last value in a certain axis (index/dimension)\n    #\n    # one can use ... to fill for an unknown amount of axes\n    # data[:, 0] returns [1, 4, 7]\n    # data[..., 0] returns [1, 4, 7]\n    # data[0, ..., 0] returns 1\n    #\n    # to add a new axis, use data[:, :, None] etc.\n\n\n    ## SIR model  ##\n\n    #change in infection and susceptibility\n\n    # introducing shortcuts to access different parts of the grid\n    # (these can replace the first two indices when accessing the data)\n    upper = np.s_[:-1, :]  # whole grid except for the last row\n    lower = np.s_[1:, :]  # everything except the first row\n    left = np.s_[:, :-1]  # everything except the last column\n    right = np.s_[:, 1:]  # everything except the first column\n\n    origin = [upper, lower, left, right]  # to be iterated over\n    destination = [lower, upper, right, left]  # \"opposite\" to origin, order must \"match\" origin\n\n    '''\n    dy[1:,:,1,:] += beta*y[:-1,:,1,:]*y[1:,:,0,:]  # infections downwards\n    # change in Infection += beta*I(neighbour above)*S(own)\n    dy[1:,:,0,:] -= beta*y[:-1,:,1,:]*y[1:,:,0,:] \n    # change in S -= change in Infection we just calculated\n    # (moving people from one compartment to the next one)\n\n    # TODO: implement reduced susceptibility based on awareness\n    # new rate: beta*(1-roh**i)\n\n    dy[:-1,:,1,:] += beta*y[1:,:,1,:]*y[:-1,:,0,:] # infections upwards\n    dy[:-1,:,0,:] -= beta*y[1:,:,1,:]*y[:-1,:,0,:] \n\n    dy[:,1:,1,:] += beta*y[:,:-1,1,:]*y[:,1:,0,:] # infections towards the right\n    dy[:,1:,0,:] -= beta*y[:,:-1,1,:]*y[:,1:,0,:] \n\n    dy[:,:-1,1,:] += beta*y[:,1:,1,:]*y[:,:-1,0,:] # infections towards the left\n    dy[:,:-1,0,:] -= beta*y[:,1:,1,:]*y[:,:-1,0,:] \n    '''\n    # infection transmission\n    for source, target in zip(origin, destination):  # iterating over the 4 neighbor cells \n        # for each element in origin and its corresponding element in destination\n        sus = susceptibility(rho, y.shape[3])\n        nt = sus*y[target][..., 0, :]\n        ns = (np.sum(y[source][..., 1, 1:], axis=-1) + (1-kappa)*y[source][..., 1, 0])[..., None]  # with partial self-isolation!!!\n        dy[target][..., 1, :] += beta*nt*ns\n        dy[target][..., 0, :] -= beta*nt*ns\n        \n    #recovery\n    I = y[..., 1, :]  # infections\n    dy[..., 1, :] -= gamma*I  # removing infections from the infected compartment\n    dy[..., 2, :] += gamma*I  # and adding them to the recovered compartment\n    # the awareness state does not affect the recovery process\n    # and is kept when moving from infected to recovered\n    \n\n    ## awareness ##\n    #information generation (only acts on infected individuals, indepentent of previous awareness state)\n    \n    # adding to compartment with the highest awareness;\n    # the sum over the last axis (all possible awareness states, which equal one in total so\n    # np.sum(I, axis=-1) resembles the amount of infection, independent\n    # of the awareness)\n    dy[..., 1, 0] += omega*np.sum(I, axis=-1)\n    dy[..., 1, :] -= omega*I  # remove \n    \n    # Q: shouldnt it be dy[:,:,1,0]?\n    # -> yes, the movement is from the (I, X_i) to the (I, X_0) state\n    # because the movement comes from different states, we have to add them up -> np.sum()\n    # we also have to remove probabilities from the uninformed states\n    # so that the total probability for all states for an individual is always equal to one\n\n\n\n    # awareness transmission\n    for source, target in zip(origin, destination):\n        # for each element in origin and its corresponding element in destination\n        for m in range(1, y.shape[3]-1):  # iterate over all awareness levels from \"1\" to \"n\" \n            nt = np.sum(y[target][..., :, m+1:], axis=3)\n            ns = np.sum(y[source][..., :, m-1], axis=2)[..., None]\n            dy[target][..., :, m] += alpha*nt*ns\n        for m in range(2, y.shape[3]):  # iterate over all awareness levels from \"2\" to \"np.inf\"\n            nt = y[target][..., :, m]\n            ns = np.sum(y[source][..., :, :m-1], axis=(2, 3))[..., None]\n            dy[target][..., :, m] -= alpha*nt*ns\n\n\n    #dy[1:,:,:,1:] += alpha*y[:-1,:,:,:-1]  # here the growth of information only depends on my neighbor\n    # and not on myself. However, if I were compleatly in the informed state X_0,\n    # then the probability for X_i should not increase \n    #dy[:-1,:,:,1:] += alpha*y[1:,:,:,:-1]\n    #dy[:,1:,:,1:] += alpha*y[:,:-1,:,:-1]\n    #dy[:,:-1,:,1:] += alpha*y[:,1:,:,:-1]\n\n    #Q: szenario: imagine two neighbours telling me information,\n    #   currently, both information % added, but is this what happens?\n    # -> yes, you can add the rates together, imagine someone telling you the same information\n    # but at twice the frequency, then the chance of hearing it in the first second will be doubled\n    # (assuming the probability of hearing it within a second is very small)\n    # problems arise when the time steps are too large\n    # and the rates then cause a large probability within a single time interval\n\n    # awareness fading (not depending on S,I,R)\n    dy[..., :, 1:] += lam*y[..., :, :-1]  # add awareness one level below\n    dy[..., :, :-1] -= lam*y[..., :, :-1]  # and remove the moved ones\n\n    return dy\n#TODO: comb of S and X\n#TODO: unterscheiden zwischen S,I,R Informationsgüte",
   "execution_count": null,
   "outputs": []
  },
  {
   "cell_type": "markdown",
   "source": "<a style='text-decoration:none;line-height:16px;display:flex;color:#5B5B62;padding:10px;justify-content:end;' href='https://deepnote.com?utm_source=created-in-deepnote-cell&projectId=ac0f8ce2-3132-47be-a4d1-6216636e93ff' target=\"_blank\">\n<img alt='Created in deepnote.com' style='display:inline;max-height:16px;margin:0px;margin-right:7.5px;' src='data:image/svg+xml;base64,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' > </img>\nCreated in <span style='font-weight:600;margin-left:4px;'>Deepnote</span></a>",
   "metadata": {
    "tags": [],
    "created_in_deepnote_cell": true,
    "deepnote_cell_type": "markdown"
   }
  }
 ],
 "nbformat": 4,
 "nbformat_minor": 5,
 "metadata": {
  "kernelspec": {
   "display_name": "Python 3 (ipykernel)",
   "language": "python",
   "name": "python3"
  },
  "language_info": {
   "codemirror_mode": {
    "name": "ipython",
    "version": 3
   },
   "file_extension": ".py",
   "mimetype": "text/x-python",
   "name": "python",
   "nbconvert_exporter": "python",
   "pygments_lexer": "ipython3",
   "version": "3.9.6"
  },
  "deepnote_notebook_id": "ea16fafb-53c5-4211-a017-546573a3bead",
  "deepnote": {},
  "deepnote_execution_queue": []
 }
}