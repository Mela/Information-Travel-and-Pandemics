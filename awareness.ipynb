{
 "cells": [
  {
   "cell_type": "code",
   "metadata": {
    "cell_id": "ef6388a69998484a9e978d011e151fb4",
    "tags": [],
    "deepnote_to_be_reexecuted": false,
    "source_hash": "3a572551",
    "execution_start": 1657548092404,
    "execution_millis": 0,
    "deepnote_cell_type": "code",
    "deepnote_cell_height": 81
   },
   "source": "## awareness-SIR modell und Funktionen",
   "execution_count": null,
   "outputs": []
  },
  {
   "cell_type": "markdown",
   "source": "## Awareness File\nThis file includes the Awareness-SIR Model and the needed helper functions.<br> This file needs to import the <b>numpy</b> library to run the functions correctly. <br>\nThe awareness of an individual is calculated with the <b>awareness_SIR </b>- function.\nDetailed aspects and code-design decisions are being explained in the function itself.\nTo get the final awareness values, functions to calculate the susceptibility and the awareness are also needed.",
   "metadata": {
    "cell_id": "745bfb9d961f435bb507a555db2c4a63",
    "tags": [],
    "owner_user_id": "76ddf6ac-32b1-453b-8dad-1d2a6f4837cb",
    "deepnote_cell_type": "markdown",
    "deepnote_cell_height": 340
   }
  },
  {
   "cell_type": "code",
   "metadata": {
    "tags": [],
    "deepnote_to_be_reexecuted": false,
    "source_hash": "c2602aa8",
    "execution_start": 1657548092440,
    "execution_millis": 0,
    "cell_id": "00006-ab986482-cac9-4656-ae6b-9b5bb66ff4af",
    "deepnote_cell_type": "code",
    "deepnote_cell_height": 117
   },
   "source": "# library imports\nimport numpy as np\nfrom typing import Callable",
   "execution_count": null,
   "outputs": []
  },
  {
   "cell_type": "code",
   "metadata": {
    "cell_id": "95b9d47e828d442590ea8d807ec66212",
    "tags": [],
    "deepnote_to_be_reexecuted": false,
    "source_hash": "ea02c56b",
    "execution_start": 1657548092441,
    "execution_millis": 0,
    "owner_user_id": "0179bac4-633d-47d6-b78f-96c837fdfbaa",
    "deepnote_cell_type": "code",
    "deepnote_cell_height": 387
   },
   "source": "def susceptibility(rho: float, n: int) -> np.ndarray:  # factor which reduces susceptibility based on awareness\n    \"\"\"\n    Determine how much the susceptibility will be reduced for each awareness compartment.\n\n    The awareness level drops by a constant factor each time the information is transmitted one step further.\n    The first compartment has a 100 % reduction in susceptibility.\n    Only infected people can be in the very first compartment.\n    The last compartment has zero awareness and therefore no susceptibility reduction.\n    This way the sum of people in all compartments will be one.\n    \"\"\"\n    # awareness is reduced by a constant factor for each distance it traveles\n    # the last slot is for no awareness -> no susceptibility reduction\n    if isinstance(rho, np.ndarray):\n        sus = np.array([*[1-rho**i for i in range(n-1)], np.ones(shape=rho.shape)])\n    else:\n        sus = np.array([*[1-rho**i for i in range(n-1)], 1])\n    return sus\n",
   "execution_count": null,
   "outputs": []
  },
  {
   "cell_type": "code",
   "metadata": {
    "cell_id": "0e6ffa2b33054ad0b8addb78ba7aefb4",
    "tags": [],
    "deepnote_to_be_reexecuted": false,
    "source_hash": "5e57c23b",
    "execution_start": 1657548092441,
    "execution_millis": 1,
    "deepnote_cell_type": "code",
    "deepnote_cell_height": 297
   },
   "source": "def g_awareness(rho: float, S: np.ndarray) -> np.ndarray:\n    \"\"\"\n    Return the awareness level for an average S of a given SIR compartment.\n\n    rho: information decay parameter (the quality of information is multiplied by this factor for each transmission)\n    S: average of population, one SIR compartment, first axis must be information compartments\n    \"\"\"\n    sus = susceptibility(rho, S.shape[0])\n    if isinstance(rho, np.ndarray):\n        a = np.sum(S*(1-sus), axis=0)\n    else:\n        a = np.sum(S*(1-sus[:, None]), axis=0)\n    return a",
   "execution_count": null,
   "outputs": []
  },
  {
   "cell_type": "code",
   "metadata": {
    "cell_id": "a63b887422e24043ad23d906604c5b0b",
    "tags": [],
    "deepnote_to_be_reexecuted": false,
    "source_hash": "7276d224",
    "execution_start": 1657548092451,
    "execution_millis": 8,
    "deepnote_cell_type": "code",
    "deepnote_cell_height": 2385
   },
   "source": "def awareness_SIR(t: float,y: np.ndarray, alpha: Callable[[float], float], beta: Callable[[float], float],\\\n    gamma: Callable[[float], float], omega: Callable[[float], float], lam: Callable[[float], float],\\\n    rho: Callable[[float], float], kappa: Callable[[float], float]) -> np.ndarray:\n    \"\"\"\n    Return the derivative for a grid based awareness SIR model.\n\n    Individuals are placed on a square lattice and only interact with their direct neighbors (up, down, left, right).\n    Each individual has 3xA compartments where A denotes the number of awareness levels considered\n    and the 3 comes from the S, I, R states of the SIR model.\n    Thus, correlations between being infected and being informed are respected.\n    However, correlations between one individual and their neighbors are not taken into account.\n\n\n    t: time\n    y: state of the compartments, dimensions: [i, j, SIR, awareness]\n    information in indexing: https://numpy.org/doc/stable/user/basics.indexing.html\n\n    The model parameters are given as functions of time and represent\n    beta: virus transmission rate between two individuals\n    gamma: recovery rate\n    alpha: awareness transmission\n    omega: awareness creation\n    lam:   awareness fading over time\n    rho:   susceptibility reduction (rh0=0.9 means 90% reduction for first level, 81% reduction for second level etc.)\n    kappa: self isolation (kappa=0.8 means 80% reduction through isolation)\n\n    returns: the derivative for the given state vector y at the given time t\n    \"\"\"\n\n    # get parameters from possibly time dependant functions\n    alpha = alpha(t)\n    beta = beta(t)\n    gamma = gamma(t)\n    omega = omega(t)\n    lam = lam(t)\n    rho = rho(t)\n    kappa = kappa(t)\n\n    # initialize derivative as an empty array\n    dy = np.zeros(shape=y.shape)  \n\n\n    ### SIR model  ###\n\n    ## change in infection and susceptibility\n\n    # introduce shortcuts to access different parts of the grid for infecting neighbors\n    upper = np.s_[:-1, :]  # whole grid except for the last row\n    lower = np.s_[1:, :]  # everything except the first row\n    left = np.s_[:, :-1]  # everything except the last column\n    right = np.s_[:, 1:]  # everything except the first column\n\n    origin = [upper, lower, left, right]  # to be iterated over\n    destination = [lower, upper, right, left]  # \"opposite\" to origin, order must \"match\" origin\n\n    ## infection transmission\n\n    # iterate over the four directions the virus can spread\n    for src, tgt in zip(origin, destination):\n\n        # get reduced susceptibility based on awareness level\n        sus = susceptibility(rho, y.shape[3])\n\n        # get targets (susceptible ones)\n        target = sus*y[tgt][..., 0, :]\n\n        # get sources (infected ones, remove self isolations)\n        source = (np.sum(y[src][..., 1, 1:], axis=-1) + (1-kappa)*y[src][..., 1, 0])[..., None]\n        \n        # move people from susceptible to infected\n        dy[tgt][..., 1, :] += beta*target*source\n        dy[tgt][..., 0, :] -= beta*target*source\n        \n    ## recovery ##\n\n    # get infections\n    I = y[..., 1, :]\n\n    # move from infected to recovered\n    dy[..., 1, :] -= gamma*I\n    dy[..., 2, :] += gamma*I\n\n\n    ### awareness ###\n\n    ## information generation (acts on infected individuals)\n    \n    dy[..., 1, 0] += omega*np.sum(I, axis=-1)\n    dy[..., 1, :] -= omega*I\n    \n    ## awareness transmission (lower index means higher awareness)\n\n    # iterate over the four directions in which the awareness can spread\n    for src, tgt in zip(origin, destination):\n        \n        # awareness increase\n\n        # iterate over all awareness levels that people can move to\n        for m in range(1, y.shape[3]-1):\n            \n            # get awareness transmission targets (all people with a awareness level index higher than m)\n            target = np.sum(y[tgt][..., :, m+1:], axis=3)\n\n            # get awareness transmission sources (all people with an awareness level index one lower than m)\n            source = np.sum(y[src][..., :, m-1], axis=2)[..., None]\n\n            # increase awareness for compartments with level m\n            dy[tgt][..., :, m] += alpha*target*source\n        \n        # iterate over all awareness levels that people have moved away from\n        for m in range(2, y.shape[3]):\n\n            # get awareness transmission targets (people with awareness level m)\n            target = y[tgt][..., :, m]\n\n            # get awareness transmission sources (people with an awareness level index lower than m-1)\n            source = np.sum(y[src][..., :, :m-1], axis=(2, 3))[..., None]\n\n            # decrease awareness in the specified compartments with level m\n            dy[tgt][..., :, m] -= alpha*target*source\n\n\n    ## awareness fading\n    dy[..., :, 1:] += lam*y[..., :, :-1]  # add awareness one level below\n    dy[..., :, :-1] -= lam*y[..., :, :-1]  # and remove the moved ones\n\n    return dy\n\n",
   "execution_count": null,
   "outputs": []
  },
  {
   "cell_type": "markdown",
   "source": "<a style='text-decoration:none;line-height:16px;display:flex;color:#5B5B62;padding:10px;justify-content:end;' href='https://deepnote.com?utm_source=created-in-deepnote-cell&projectId=ac0f8ce2-3132-47be-a4d1-6216636e93ff' target=\"_blank\">\n<img alt='Created in deepnote.com' style='display:inline;max-height:16px;margin:0px;margin-right:7.5px;' src='data:image/svg+xml;base64,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' > </img>\nCreated in <span style='font-weight:600;margin-left:4px;'>Deepnote</span></a>",
   "metadata": {
    "tags": [],
    "created_in_deepnote_cell": true,
    "deepnote_cell_type": "markdown"
   }
  }
 ],
 "nbformat": 4,
 "nbformat_minor": 5,
 "metadata": {
  "kernelspec": {
   "display_name": "Python 3 (ipykernel)",
   "language": "python",
   "name": "python3"
  },
  "language_info": {
   "codemirror_mode": {
    "name": "ipython",
    "version": 3
   },
   "file_extension": ".py",
   "mimetype": "text/x-python",
   "name": "python",
   "nbconvert_exporter": "python",
   "pygments_lexer": "ipython3",
   "version": "3.9.6"
  },
  "deepnote_notebook_id": "ea16fafb-53c5-4211-a017-546573a3bead",
  "deepnote": {},
  "deepnote_execution_queue": []
 }
}