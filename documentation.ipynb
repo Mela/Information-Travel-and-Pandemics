{
 "cells": [
  {
   "cell_type": "markdown",
   "source": "# Information Travel and Epidemics\n## Introduction\nInformation spreading changes the behaviour of individuals and thus a population during a pandemic significantly. In this analysis, we want to study the effect of information spreading on containing an epidemic. Our work is based on [Funk et al. 2009](https://www.pnas.org/doi/full/10.1073/pnas.0810762106). The paper's conclusion is that high quality information can change human behaviour. To replicate their results, we extend a basic SIR-Model with an awareness component. The model we created is based on our research questions: \n\n1. “Which conditions can lead to outbreaks being contained by the information spread?” \n\n2. “What is the impact of self-isolation of knowingly infected individuals on the spread of a disease and under which conditions is it most impactful?”\n\nBased on the study of Funk et al, we assume that information quality decreases after a certain time and number of individuals passing information on ([grapevine effect](https://phys.org/news/2019-07-grapevine-effect.html)). We extended the original model with further aspects like the isolation rate. We would like to investigate how the infection changes after an individual is infected and isolates under what circumstances the isolation would be particularly successful. \n\n**This is how our program is structured**: \nThe core files are <b> main.ipynb</b>, <b>awareness.ipynb</b>, <b>simulation.ipynb</b> and <b>plot.ipynb</b>. The file <b>rk4.ipynb</b> includes the numerical approach to solve partial differential equations. The folder <b>data</b> stores the results of the executed computations. They provide the results used in the model's diagrams. The <b>figures</b>-folder holds the created figures while the <b>model</b>-folder contains custom made figures desribing the working of the model.<br><br>\n\nThe final code can be downloaded from the Github Repository at the following link:\n<b>https://github.com/Mela/Information-Travel-and-Pandemics</b><br>\n\nTo requirements for the setup are listed in the <b>requirements.txt</b> file. If the program is running in the deepnote environment these will be installed automatically. If the program is running in another one you have to run the \"pip install\" command.\n\n## Reading order\nOur suggested reading order for the different jupyter notebooks is as follows: <br>\n1. <b>documentation.ipynb</b> for the introduction, explaination of the model and the parameters <br> \n2. <b>main.ipynb</b> for run the main functions <br>\n3. <b>rk4.ipynb</b> for the algorihm to solve partial differential equations (PDEs) and a comparison between Runge-Kutta of 4th order (rk4) and the euler forward step method <br>\n4. optional: <b>example_heat.ipynb</b> for a simple example using rk4 and a model for the heat equation <br>\n5. <b>awareness.ipynb</b> is the file where SIR and awareness is modeled <br>\n6. <b>analysis.ipynb </b> is the file for run and evaluate the all of the simulations.\n",
   "metadata": {
    "tags": [],
    "cell_id": "00002-619a698c-361f-48dd-a83d-c9781cc88109",
    "deepnote_app_coordinates": {
     "x": 0,
     "y": 151,
     "w": 12,
     "h": 41
    },
    "owner_user_id": "76ddf6ac-32b1-453b-8dad-1d2a6f4837cb",
    "deepnote_cell_type": "markdown",
    "deepnote_cell_height": 979.2000122070312
   }
  },
  {
   "cell_type": "markdown",
   "source": "## Our team\n\n* <b>Lisa Beckmann</b>, Georg-August-University of Göttingen, Physics MSc.\n* <b>Melanie Eckenfels</b>, Karlsruhe Institute of Technology, European Culture and History of Ideas MA.\n* <b>Nathanael Gutknecht</b>, Karlsruhe Institute of Technology, Physics MSc.\n* <b>Zuzanna Mielczarek</b>, University of Lübeck, Media Informatics MA.\n",
   "metadata": {
    "tags": [],
    "cell_id": "00003-96915bd2-6690-4ac1-abdf-1644d105ca60",
    "deepnote_app_coordinates": {
     "x": 0,
     "y": 13,
     "w": 12,
     "h": 5
    },
    "owner_user_id": "0179bac4-633d-47d6-b78f-96c837fdfbaa",
    "deepnote_cell_type": "markdown",
    "deepnote_cell_height": 200.60000610351562
   }
  },
  {
   "cell_type": "markdown",
   "source": "## The model\n\n<i> Note: Depending on the situation, either the term \"information\" or \"awareness\" is used, however, in our model they are used interchangably.</i>\n\nWe chose a basic SIR-model to model the spread of the epidemic <b>(see Fig. 1)</b>. The rate for susceptibility to infection is modified by the decay constant $\\rho$ and the parameter $i$, which describes the awareness, with $(1-\\rho ^i)$. It is to note that $i=0$ corresponds to first hand information and therefore the highest awareness. \n<center>\n\n![](model/SIR.png)\n</center>\n<p style=\"font-size:8pt\"><b>Fig. 1</b> Flowchart of the SIR model. The boxes describe individuals having one of three possible conditions: being susceptible, infected or recovered. The arrows show the transition rates</p><br>\n\nInformation quality is characterized by the number of times it was passed on until arriving at individual $X$ <b>(see Fig. 2)</b>.\nThus, the lower $i$ is, the better the information quality and the less susceptible an individual is, Information is generated by infected indivduals who also can notice their own infection with a rate $\\omega$. Information transmission can be achieved by interactions with the neighbors with a rate of $\\alpha$, but the information quality wanes by $i+1$ for the receiving individual. Waning of information quality by time is modeled  with a rate of $\\lambda$.\n\n<center>\n\n![](model/Awareness.png)\n</center>\n<p style=\"font-size:8pt\"><b>Fig. 2</b> Flowchart of the awareness generation. The boxes describe the individuals  and the arrows describe the information transmission/fading with time. The index describes the grade of awareness.</p><br>\n\nAn overview of the parameters we used:\n| Parameter  | Description |\n| --- |  --- |\n| $\\beta$ | normal infection rate |\n| $\\gamma$ | recovery rate |\n| $\\rho$ | decay constant |\n| $\\omega$ | information generation rate |\n| $\\alpha$ | information transmission rate |\n| $\\lambda$ | information fading rate |\n| $i$ | awareness |\n\n\nTo simplify the model and to match the individual-based analysis described by [Funk et al. 2009](https://www.pnas.org/doi/full/10.1073/pnas.0810762106), we chose to model the population on a 2D-grid with each point having four neighbours. \n\n<b>Extension of the model</b> <br>\nIn the original model as described above, only susceptible were acting on the information they were receiving. We extended the model with a self isolation rate of knowingly infected indivduals of $\\kappa$. This way, also the infected individuals were acting on information (although generated by themselves).",
   "metadata": {
    "tags": [],
    "cell_id": "00004-fafdaf23-647e-4278-a781-de4e280e09c0",
    "deepnote_app_coordinates": {
     "x": 0,
     "y": 19,
     "w": 12,
     "h": 5
    },
    "deepnote_cell_type": "markdown",
    "deepnote_cell_height": 1286.800048828125
   }
  },
  {
   "cell_type": "markdown",
   "source": "# Results",
   "metadata": {
    "cell_id": "004ea260e03b48289727bc5f31f40102",
    "tags": [],
    "deepnote_app_coordinates": {
     "x": 0,
     "y": 25,
     "w": 12,
     "h": 5
    },
    "deepnote_cell_type": "markdown",
    "deepnote_cell_height": 82
   }
  },
  {
   "cell_type": "markdown",
   "source": "Unless otherwise noted, these default parameters are assumed for all simulations:\n\n| Parameter &nbsp;&nbsp;&nbsp;| Default Value&nbsp;&nbsp;&nbsp; | Description|\n| :- | :- | :- |\n| β: | 0.03 | normal infection rate |\n| γ: | 0.03 | recovery rate |\n| ω: | 0.06 | information generation rate |\n| α: | 0.06 | information transmission rate |\n| λ: | 0.05 | infromation fading rate|\n| ρ: | 0.6 | decay rate for information quality |\n| $\\kappa$: | 0.7 | self isolation probability |\n| | | .|\n|gs:|30x30|grid size\n|$\\Delta t$:|1|time step\n\n\n\n",
   "metadata": {
    "cell_id": "0a89a44385c146bc8d88dbcbbdcb4553",
    "tags": [],
    "owner_user_id": "824824b9-26fb-48d4-a647-bc29df407f3a",
    "deepnote_app_coordinates": {
     "x": 0,
     "y": 31,
     "w": 12,
     "h": 5
    },
    "deepnote_cell_type": "markdown",
    "deepnote_cell_height": 335.73333740234375
   }
  },
  {
   "cell_type": "markdown",
   "source": "### Awareness with no New Infections\n\nFirst, we had a look at how the awareness spreads and decays in our network when there are no new infections present, which could add more information/awareness to the system. For this, we placed all the individuals in a state of no-awareness and then moved one individual to the compartment with the highest awareness (awareness level index 0). The average amount of awareness in the population is calculated using<br><center>\n$\\mathrm{awareness}=\\langle\\sum\\limits_{i=0}^{N_c-2} P(S_i)\\cdot\\rho^i\\rangle,$<br></center>\nwhere $P(S_i)$ is the probability of an individual being in the $i$-th compartment and $\\rho$ is the decay constant for transmissions. The last compartment has zero awareness and therefore is not included in the sum. The average is taken over the grid. The grid is chosen large enough so that the awareness cannot reach the edge and is therefore not cut off. The resulting plot is shown in figure 3  . Figure 4 shows awareness and susceptibility associated with each awareness compartment.<br>\n<center>\n\n![](figures/awareness_without_infections.png)\n</center>\n<p style=\"font-size:8pt\"><b>Fig. 3</b> Average awareness on a 30x30 grid  over time. In the beginning the awareness quickly spreads throughout the network. Then the awarenes slowly fades over time until there is basically no awareness left. Also compare to Figure 1 from <a href=\"https://www.pnas.org/doi/full/10.1073/pnas.0810762106\">Funk et al. 2009</a>.</p><br>",
   "metadata": {
    "cell_id": "37e8182973af4e669d81fc1973705bb4",
    "tags": [],
    "deepnote_app_coordinates": {
     "x": 0,
     "y": 37,
     "w": 12,
     "h": 5
    },
    "deepnote_cell_type": "markdown",
    "deepnote_cell_height": 701.5166625976562
   }
  },
  {
   "cell_type": "markdown",
   "source": "<center>\n\n![](figures/susceptibility_compartments.png)\n</center>\n<p style=\"font-size:8pt\"><b>Fig. 4</b> Awareness and susceptibility for each awareness compartment.</p><br>",
   "metadata": {
    "cell_id": "f5585d18013c4055b5e8bb38bb011e9d",
    "tags": [],
    "deepnote_app_coordinates": {
     "x": 0,
     "y": 43,
     "w": 12,
     "h": 5
    },
    "deepnote_cell_type": "markdown",
    "deepnote_cell_height": 371.1333312988281
   }
  },
  {
   "cell_type": "markdown",
   "source": "### Impact of Awareness on an Outbreak\n\n#### Outbreak without Awareness\n\nAs a baseline an outbreak was simulated without awareness in the population. The infections move outward in a circular shape until nearly everyone is in the recovered compartment in the end. The results can be seen in figure 5.\n\n<center>\n\n![](figures/evolution_no_awareness.png)\n</center>\n<p style=\"font-size:8pt\"><b>Fig. 5</b> Outbreak with no awareness. The outbreak is not contained and in the end the probability of having been infected at some point in time is close to one.</p><br>\n\n",
   "metadata": {
    "cell_id": "2192ba1325664a5a95c2ec5ca86d5430",
    "tags": [],
    "deepnote_app_coordinates": {
     "x": 0,
     "y": 49,
     "w": 12,
     "h": 5
    },
    "deepnote_cell_type": "markdown",
    "deepnote_cell_height": 608.933349609375
   }
  },
  {
   "cell_type": "markdown",
   "source": "#### Outbreak with Awareness\n\nNext, the simulation was run with the same initial conditions, but this time with awareness being generated from infections, which spread throughout the network and reduce susceptibility. The results are displayed in figure 6.\n\n<center>\n\n![](figures/evolution_default.png)\n</center>\n<p style=\"font-size:8pt\"><b>Fig. 6</b> Outbreak with awareness. The outbreak is reduced both in speed and in intensity.</p><br>",
   "metadata": {
    "cell_id": "fffd8c8e12ea41278fe230c1bb4a808e",
    "tags": [],
    "deepnote_app_coordinates": {
     "x": 0,
     "y": 55,
     "w": 12,
     "h": 5
    },
    "deepnote_cell_type": "markdown",
    "deepnote_cell_height": 560.933349609375
   }
  },
  {
   "cell_type": "markdown",
   "source": "#### Comparison\n\nWhen comparing the two scenarios one can notice the awareness having reduced the total number of infections as well as the maximum number of simultaneous infections as shown in figure 7.\n\n<center>\n\n![](figures/evolution_comparison.png)\n</center>\n<p style=\"font-size:8pt\"><b>Fig. 7</b> Comparison of an outbreak with awareness (solid line) and without awareness (dashed line, gray). Here, the awareness reduces both the speed and the intensity.</p><br>",
   "metadata": {
    "tags": [],
    "cell_id": "248345bd3cce4a459ed609d689c6d1ce",
    "deepnote_app_coordinates": {
     "x": 0,
     "y": 61,
     "w": 12,
     "h": 5
    },
    "deepnote_cell_type": "markdown",
    "deepnote_cell_height": 560.933349609375
   }
  },
  {
   "cell_type": "markdown",
   "source": "### Long Term Stability\n\nIn our model, that uses a superposition of SIR and information states for each individual, an outbreak won't completely die out just by chance. Instead, there will always be a small portion of infection remaining in the system. Thus, if the awareness level dropped to zero, a second outbreak might occur.\n\nA stable condition without awareness is reached, when the rate of new infections is less or equal to the rate of recovery with no awareness being present. This happens when a certain number of people have been removed from the susceptible compartment.\nFor our model, where we used $\\beta = \\gamma = 0.03$ this means that 3/4 of the population have to be removed from the susceptible pool as each individuals has four neighbors that they can infect with a rate of $\\beta$. This would correspond to a mean field SIR with $\\beta = 0.12,~\\gamma = 0.03$ => $R_0 = \\beta/\\gamma = 4$. \n\nHowever, both in the mean field approach and in our grid based model the outbreak will lead to a much higher amount of infected people than the stability threshold requires. This is because when the threshold for stability is reached ($R_{\\mathrm{eff}}=1$) there are still many infections present in the population which still generate new cases, even when the effective reproduction number is below one. Therefore, a lot more than 75&#8239;% of people might become infected over time.\n\nThe awareness in our model acts against overshooting the stability threshold.\nFor our default parameters the awareness reduces the number of recovered ones at $t = 1000$ to about 73&#8239;% with some awareness still remaining in the susceptible population, which will slow down any further spread while being below the threshold. (The threshold might also be slightly reduced by edge effects.)\n\nIf the stability threshold is reached, then no further outbreaks will occur even when the awareness has faded away (figure 8).\n\n<center>\n\n![](figures/evolution_default_extended.png)\n</center>\n<p style=\"font-size:8pt\"><b>Fig. 8</b> Long term stability when a total of 1 - 1/R_0 have been infected.</p><br>\n\n\n",
   "metadata": {
    "cell_id": "d5b25de23d7c490eba7b235f78477462",
    "tags": [],
    "deepnote_app_coordinates": {
     "x": 0,
     "y": 67,
     "w": 12,
     "h": 5
    },
    "deepnote_cell_type": "markdown",
    "deepnote_cell_height": 944.86669921875
   }
  },
  {
   "cell_type": "markdown",
   "source": "When using more aggressive parameters for the awareness, the outbreak seems to be contained at an even lower value than the threshold. In that case, the awareness in the susceptible population will stay high so that the further spread of infections is kept at a very small rate (as depicted in Figure 9).\n\n<center>\n\n![](figures/evolution_aggressive.png)\n</center>\n<p style=\"font-size:8pt\"><b>Fig. 9</b> Long term stability when a total of 1 - 1/R_0 have been infected.</p><br>\n",
   "metadata": {
    "cell_id": "59355e9f5306458ca7e5c172bd19f7cd",
    "tags": [],
    "deepnote_app_coordinates": {
     "x": 0,
     "y": 73,
     "w": 12,
     "h": 5
    },
    "deepnote_cell_type": "markdown",
    "deepnote_cell_height": 547.3333129882812
   }
  },
  {
   "cell_type": "markdown",
   "source": "However, if the awareness suddenly drops during that time, while the threshold has not been reached, a second wave is possible as figure 10 shows.\n\n<center>\n\n![](figures/evolution_aggressive_with_awareness_drop.png)\n</center>\n<p style=\"font-size:8pt\"><b>Fig. 10</b> Long term stability when a total of 1 - 1/R_0 have been infected.</p><br>\n",
   "metadata": {
    "cell_id": "bf925f1aec5847aba70dea30d14bc222",
    "tags": [],
    "deepnote_app_coordinates": {
     "x": 0,
     "y": 79,
     "w": 12,
     "h": 5
    },
    "deepnote_cell_type": "markdown",
    "deepnote_cell_height": 524.933349609375
   }
  },
  {
   "cell_type": "markdown",
   "source": "### Sensitivity Analysis\n\nTo get a better understanding on how much the different parameters influence the outcome of our system, we run a sensitivity analysis on our model. With regard to our default parameters as a point of reference, we take one parameter and adjusted it to see how much it will change the outcome. This is done for all parameters.\nAs the model is always assumed to reach at least approximately 75&#8239;% recovered in the (very) long run and because the time of the end of the initial wave is influenced by the parameters, we choose the maximum number of simultaneously infected people to be our measure for the effectiveness of the awareness. The results from the sensitivity analysis are shown in figure 11.\n\n<center>\n\n![](figures/sweep_default.png)\n</center>\n<p style=\"font-size:8pt\"><b>Fig. 11</b> Sensitivity analysis around the default values.</p><br>\n",
   "metadata": {
    "cell_id": "bce28a161c164d229b08815d09c9c5f6",
    "tags": [],
    "deepnote_app_coordinates": {
     "x": 0,
     "y": 85,
     "w": 12,
     "h": 5
    },
    "deepnote_cell_type": "markdown",
    "deepnote_cell_height": 590.5333251953125
   }
  },
  {
   "cell_type": "markdown",
   "source": "Before drawing any conclusions about real-world epidemics, one should remember that the sensitivity analysis depends on the chosen point of reference (compare figures 12 and 13). (The gradiant varies depending on where you are in the parameter space.) The default values chosen for our model do not necessarily reflect a realistic view of the world. Rather they have been chosen in such a way that the different effects of the model become visible.\n\nFurthermore, on should remember that the effectiveness of the different parameters heavily depends on the assumptions of the model, which might not represent reality in an accurate way (square lattice, etc.).",
   "metadata": {
    "cell_id": "f2e6b5da99c04ac8835627f1ae1c92b8",
    "tags": [],
    "deepnote_app_coordinates": {
     "x": 0,
     "y": 91,
     "w": 12,
     "h": 5
    },
    "deepnote_cell_type": "markdown",
    "deepnote_cell_height": 178.39999389648438
   }
  },
  {
   "cell_type": "markdown",
   "source": "<center>\n\n![](figures/sweep_information_based.png)\n</center>\n<p style=\"font-size:8pt\"><b>Fig. 12</b> Sensitivity analysis in a scenario where the spread is dominated by a fast transmission of information (α = 0.1) while the information is generated at a slow rate (ω = 0.001). Therefore self isolation only has little impact as the spreading of the virus is much faster than the virus is being detected.</p><br>",
   "metadata": {
    "cell_id": "23ba813d493f443da6b99351f10651b0",
    "tags": [],
    "deepnote_app_coordinates": {
     "x": 0,
     "y": 97,
     "w": 12,
     "h": 5
    },
    "deepnote_cell_type": "markdown",
    "deepnote_cell_height": 425.20001220703125
   }
  },
  {
   "cell_type": "markdown",
   "source": "<center>\n\n![](figures/sweep_detection_based.png)\n</center>\n<p style=\"font-size:8pt\"><b>Fig. 13</b> Sensitivity analysis in a scenario where the transmission of information is very slow (α = 0.001) but the detection rate for generating new information is large (ω = 0.1), which leads to self isolation having a much greater impact.</p><br>",
   "metadata": {
    "cell_id": "2daef699fd62455ab6e19e1862af60f6",
    "tags": [],
    "deepnote_app_coordinates": {
     "x": 0,
     "y": 103,
     "w": 12,
     "h": 5
    },
    "deepnote_cell_type": "markdown",
    "deepnote_cell_height": 425.20001220703125
   }
  },
  {
   "cell_type": "markdown",
   "source": "## Particular Features of Our Model\n\n<i>Note: This section has not been part of our regular group work but rather came about during debugging and trying to understand why our model behaves in that specific way. It has lead to some backup slides of our presentation in case of more detailed questions about our model. As the findings give some interesting insights into the workings of our model, they are included here. Furthermore, it shows how important it is to carefully consider which aspects to put into a model.</i>\n\nWhen deciding how to build our model we decided to use a square lattice to reflect a very simple, local contact structure. This distinguishes our model from a mean field approach, where everybody is connected to everybody. As another simplification, we assumed the contact structure for the spread of infections and awareness to be the same.\n\nInstead of using a Monte Carlo simulation we decided to use the expectation values for the interactions instead and use a compartmentalized model, where each individual on the grid is in a superposition of different states.\n\nWe decided to have $3\\cdot 10 = 30$ compartments for each individual (3 for SIR, 10 for awareness) to reflect the correlations between awareness and the SIR state. For example an individual A might have a high awareness probability because individual A is partly infected, but that awareness should not reduce individual A's susceptibility for the part of individual A that is still susceptible.\n\nTo keep things simple and to reduce computation time we do not respect correlations between the SIR states of neighbors. This, however, means that an individual A could infect their neighbor (individual B) and individual B in turn can increase individual A's probability of infection. In that way the local behavior of our model is similar to a mean field approach.\n\nTo better understand the differences between a mean field approach, a Monte Carlo simulation on a grid (which automatically respects correlations between neighbors) and our superposition model, a quick Monte Carlo simulation and a mean field simulation have been written for an SIR model (without awareness, the models can be found in <code>model_inspection.ipynb</code>). To enable a better comparison, the Runge-Kutta method is dropped and the Euler forward method is used.\n\nWhen running the simulation with our default parameters, there is a huge difference in the results from the Monte Carlo method compared to the mean field analysis and our own model. The outbreak from the Monte Carlo simulation happenes considerably slower and has a real chance of dying out (see figure 14). Because the infections there either happen (with a set probability) or they don't happen (instead of using rates and averages), each individual effectively looses one neighbor to pass on the virus (the one that passed on the infection). Also, people in the same area often share their neighbors, thus further reducing the number of effective contacts.\n\n<center>\n\n![](figures/model_comparison_low_beta.png)\n</center>\n<p style=\"font-size:8pt\"><b>Fig. 14</b>  Comparison between mean field approach (green), our model (blue) and a Monte Carlo simulation (purple) on a square lattice with size 100x100 for an SIR model (no information/awareness). β = 0.03, γ = 0.03. Our model leads to a linear increase in active cases because of the circular pattern moving outwards. The Monte Carlo simulation (25 passes) leads to a much slower spread as the correlations between neighbours are not respected in our model. Here, the Monte Carlo simulation has the possibility to freeze out at low numbers and thus significantly reduces the total number of infections.</p><br>\n\n\n\n\n",
   "metadata": {
    "cell_id": "a35a6e2b6e1c4a5d9851066b8c6e79b6",
    "tags": [],
    "deepnote_app_coordinates": {
     "x": 0,
     "y": 109,
     "w": 12,
     "h": 5
    },
    "deepnote_cell_type": "markdown",
    "deepnote_cell_height": 1160
   }
  },
  {
   "cell_type": "markdown",
   "source": "When increasing the spreading rate $\\beta$ of the infections, the Monte Carlo method results in a lot more infections and is closer to the mean field analysis (figure 15).\n\n<center>\n\n![](figures/model_comparison_high_beta.png)\n</center>\n<p style=\"font-size:8pt\"><b>Fig. 15</b> Comparison between mean field approach (green), our model (blue) and a Monte Carlo simulation (purple) on a square lattice with size 100x100 for an SIR model (no information/awareness). β = 0.06, γ = 0.03. Our model leads to a linear increase in active cases because of the circular pattern moving outwards. The Monte Carlo simulation (25 passes) leads to a slower spread as the correlations between neighbours are not respected in our model.</p><br>",
   "metadata": {
    "cell_id": "5d2c72165ea3499aaee479322ebea7d3",
    "tags": [],
    "deepnote_app_coordinates": {
     "x": 0,
     "y": 115,
     "w": 12,
     "h": 5
    },
    "deepnote_cell_type": "markdown",
    "deepnote_cell_height": 488.20001220703125
   }
  },
  {
   "cell_type": "markdown",
   "source": "\nTo get around the back and forth infections and the shared neighbors, a 1D chain is simulated where the infections can only be passed on in one direction and the recovery rate is set to zero. Plotting the local spread at different times shows the speed of the infection wave traveling outward. When comparing our superposition approach to a Monte Carlo simulation, a clear difference can be seen (figure 16).\n\n<center>\n\n![](figures/movement_1D_without_recovery.png)\n</center>\n<p style=\"font-size:8pt\"><b>Fig. 16</b> Movement speed for a 1D chain of people. At t = 0 only the individual at x = 0 is infected. The figure shows the infected people at different time stamps (t = 250, 500, 750, 1000) with linestyles: (mixed, dashed, dotted, solid). Blue: Our model. Cyan: A restricted model where infections can only travel from left to right. Purple: A Monte Carlo Simulation with 100 passes. β = 0.06, γ = 0. It can be seen that our model leads to a much faster spread than the Monte Carlo Method.</p><br>\n",
   "metadata": {
    "cell_id": "ecc0c23a25fe453a907e2026534a9ad2",
    "tags": [],
    "deepnote_app_coordinates": {
     "x": 0,
     "y": 121,
     "w": 12,
     "h": 5
    },
    "deepnote_cell_type": "markdown",
    "deepnote_cell_height": 531.86669921875
   }
  },
  {
   "cell_type": "markdown",
   "source": "If recovery is turned on, the infections along a 1D chain will quickly decay along the distance, as shown in figure 17. However, for a wave front in 2D, people can also infect each other laterally so the infection wave wil not necessarily decay with distance.\n\n<center>\n\n![](figures/movement_1D_with_recovery.png)\n</center>\n<p style=\"font-size:8pt\"><b>Fig. 17</b> Movement speed for a 1D chain of people. At t = 0 only the individual at x = 0 is infected. The figure shows the infected people at different time stamps (t = 250, 500, 750, 1000) with linestyles: (mixed, dashed, dotted, solid). Blue: Our model. Cyan: A restricted model where infections can only travel from left to right. Purple: A Monte Carlo Simulation with 100 passes. β = 0.06, γ = 0.001. It can be seen that our model leads to a much faster spread than the Monte Carlo Method. The recovery does not limit the speed of the spread but it can heavily reduce the reach of the spread as there is always a chance of the infection not being passed on.\n</p><br>\n\n",
   "metadata": {
    "cell_id": "555ab6484a4d4d0d9b4dbbf50950b9dd",
    "tags": [],
    "deepnote_app_coordinates": {
     "x": 0,
     "y": 127,
     "w": 12,
     "h": 5
    },
    "deepnote_cell_type": "markdown",
    "deepnote_cell_height": 504.1333312988281
   }
  },
  {
   "cell_type": "markdown",
   "source": "The difference between the results from our superposition approach and the Monte Carlo simulation can be explained by the neglection of correlations between neighbors in our approach as indicated by figure 18.\n\n![](model/correlations_1D_chain.png)\n</center>\n<p style=\"font-size:8pt\"><b>Fig. 18</b> Simplifications in the model (correlations between neighbors are not respected) lead to both a larger and faster epidemic outbreak compared to a Monte Carlo simulation. The example shown here is a chain of three people with the first one being infected.\nBlue (dashed) line: assumptions used in the model. Green (solid) line: actual expected behaviour, which corresponds to a Monte Carlo simulation.</p><br>",
   "metadata": {
    "cell_id": "a7a9f905a8024246be2a5f27e682e1dd",
    "tags": [],
    "deepnote_app_coordinates": {
     "x": 0,
     "y": 133,
     "w": 12,
     "h": 5
    },
    "deepnote_cell_type": "markdown",
    "deepnote_cell_height": 699.066650390625
   }
  },
  {
   "cell_type": "markdown",
   "source": "# Conclusion\n\n1. **Which conditions can help to contain outbreaks through information spreading?**\n\nA high decay rate (ϱ) can \"freeze\" the outbreak if awareness is maintained for long.\n\n2. **What is the impact of self-isolation of knowingly infected individuals on the spread of a disease and under which conditions is it most impactful?**\n\nSelf-isolation will help limit the spread of the disease, yet it is harder to discern the ideal conditions.\n\nThe combination of parameters we chose for our model can lead to a containment of the disease. \nSelf-isolation will lead to a decline in infections. \n\n---\n\nWe think our model can be used to deepen the understanding how information influences infection patterns\n\nGiven more time to expand or enhance the model, it would have been interesting to add — for example — certain nodes enhancing higher quality information. This could have been influencers in the community like sport coaches, teachers, social workers, cultural or spiritual leaders, Another approach would have been to include clusters with individuals that can not be reached by information using traditional methods, like people highly influenced by anti-vaccine disinformation ([anti-vaxxers](https://www.nature.com/articles/s41562-021-01056-1)) or people lacking ressources to deal with the anxiety that comes with the incertainities of a pandemic, who tend to tune out information — called '[blunters](https://www.google.de/books/edition/The_Psychology_of_Pandemics/8mq1DwAAQBAJ?hl=de&gbpv=1&dq=The%20psychology%20of%20pandemics%20blunters&pg=PA44&printsec=frontcover)'.\n\nThe last worthwhile attempt we brainstormed was to expand the model to include the technique called \"[pre-bunking](https://firstdraftnews.org/articles/a-guide-to-prebunking-a-promising-way-to-inoculate-against-misinformation/)\", meaning the dissemination of high-quality information prior to the first infection in a community. \n\n\n## Limitations\n\nDue to time constraints we had to maintain a very basic model, lacking more complex approaches. The grid approach of four contacts per individual wont represent the communication, and infection, pattern of any community in a realistic fashion. We also had to limit the community size, to deal with limited computing power. The percentual approach would have run indefinitely, which is also a non-realistic outcome for a pandemic. Also, the neglectance of correlations between neighbours leads to deviations compared to a Monte Carlo Simulation. Randomization would have lead to more accurate results. \n\n",
   "metadata": {
    "cell_id": "f15d9086962845d5abadf3f02cb8620a",
    "tags": [],
    "deepnote_app_coordinates": {
     "x": 0,
     "y": 139,
     "w": 12,
     "h": 5
    },
    "deepnote_cell_type": "markdown",
    "deepnote_cell_height": 715
   }
  },
  {
   "cell_type": "markdown",
   "source": "",
   "metadata": {
    "cell_id": "93a227325797475f8c92bbed42ff902d",
    "tags": [],
    "deepnote_app_coordinates": {
     "x": 0,
     "y": 145,
     "w": 12,
     "h": 5
    },
    "deepnote_cell_type": "markdown",
    "deepnote_cell_height": 46
   }
  },
  {
   "cell_type": "markdown",
   "source": "<a style='text-decoration:none;line-height:16px;display:flex;color:#5B5B62;padding:10px;justify-content:end;' href='https://deepnote.com?utm_source=created-in-deepnote-cell&projectId=ac0f8ce2-3132-47be-a4d1-6216636e93ff' target=\"_blank\">\n<img alt='Created in deepnote.com' style='display:inline;max-height:16px;margin:0px;margin-right:7.5px;' src='data:image/svg+xml;base64,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' > </img>\nCreated in <span style='font-weight:600;margin-left:4px;'>Deepnote</span></a>",
   "metadata": {
    "tags": [],
    "created_in_deepnote_cell": true,
    "deepnote_cell_type": "markdown"
   }
  }
 ],
 "nbformat": 4,
 "nbformat_minor": 5,
 "metadata": {
  "kernelspec": {
   "display_name": "Python 3 (ipykernel)",
   "language": "python",
   "name": "python3"
  },
  "language_info": {
   "codemirror_mode": {
    "name": "ipython",
    "version": 3
   },
   "file_extension": ".py",
   "mimetype": "text/x-python",
   "name": "python",
   "nbconvert_exporter": "python",
   "pygments_lexer": "ipython3",
   "version": "3.9.6"
  },
  "deepnote_notebook_id": "24a72fe4-30fa-42e8-bdce-590965e4a9b9",
  "deepnote": {},
  "deepnote_execution_queue": [],
  "deepnote_app_layout": "article"
 }
}