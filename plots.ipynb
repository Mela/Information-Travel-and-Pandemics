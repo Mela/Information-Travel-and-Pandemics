{
 "cells": [
  {
   "cell_type": "code",
   "metadata": {
    "cell_id": "d90a4b50a2d04dcdb20ad3d3e5b21839",
    "tags": [],
    "deepnote_to_be_reexecuted": false,
    "source_hash": "83133b00",
    "execution_start": 1658346673601,
    "execution_millis": 47,
    "deepnote_cell_type": "code",
    "deepnote_cell_height": 81
   },
   "source": "## zum Erstellen von Plots",
   "execution_count": 1,
   "outputs": []
  },
  {
   "cell_type": "markdown",
   "source": "## Plot File\n\nThis file is used to create the plots. <br>\nFor this are following libraries: <b>numpy</b>, <b>matplotlib</b> and <b>ipynb</b> required.\nFive different plots are created. Each for <b>Evolution, the Comparision of the Evolution,  Awareness, Sweep</b> and <b>Awareness Compartments</b>.\nDetailed explanations for aspects of the plots and code-design decisions can be found in the functions.\n",
   "metadata": {
    "cell_id": "f0667a2b1d9749c2b2a48e39fade23e5",
    "tags": [],
    "deepnote_cell_type": "markdown",
    "deepnote_cell_height": 175.60000610351562
   }
  },
  {
   "cell_type": "code",
   "metadata": {
    "cell_id": "120e72db185348fb988f6a2d282d7a4a",
    "tags": [],
    "deepnote_to_be_reexecuted": false,
    "source_hash": "6f3d5d63",
    "execution_start": 1658346673649,
    "execution_millis": 1042,
    "deepnote_cell_type": "code",
    "deepnote_cell_height": 243
   },
   "source": "# library imports\nimport numpy as np\nimport matplotlib as mpl\nimport matplotlib.pyplot as plt\nfrom matplotlib.gridspec import GridSpec\nimport import_ipynb\nimport pickle\nfrom itertools import product\nfrom functools import partial\n",
   "execution_count": 2,
   "outputs": []
  },
  {
   "cell_type": "code",
   "metadata": {
    "cell_id": "bb407a011cbd48f4a078b80f63d03c0b",
    "tags": [],
    "deepnote_to_be_reexecuted": false,
    "source_hash": "d0cd8137",
    "execution_start": 1658346674693,
    "execution_millis": 255,
    "deepnote_cell_type": "code",
    "deepnote_cell_height": 226.8000030517578
   },
   "source": "# local imports\nfrom awareness import susceptibility, g_awareness, awareness_SIR \nfrom analysis import awareness_param_names\nfrom input_output import str_name, parse_params, load_data",
   "execution_count": 3,
   "outputs": [
    {
     "name": "stdout",
     "text": "importing Jupyter notebook from awareness.ipynb\nimporting Jupyter notebook from analysis.ipynb\nimporting Jupyter notebook from rk4.ipynb\nimporting Jupyter notebook from input_output.ipynb\n",
     "output_type": "stream"
    }
   ]
  },
  {
   "cell_type": "code",
   "metadata": {
    "cell_id": "dfe18d8690034cb9a2d0967c6110a2e3",
    "tags": [],
    "deepnote_to_be_reexecuted": false,
    "source_hash": "2793ffc1",
    "execution_start": 1658346674951,
    "execution_millis": 42,
    "owner_user_id": "0179bac4-633d-47d6-b78f-96c837fdfbaa",
    "deepnote_cell_type": "code",
    "deepnote_cell_height": 207
   },
   "source": "# update matplotlib style\n\n# Use LaTeX for rendering with matplotlib.\n# For this texlive etc. has to be installed on the machine running the notebook.\n# For Deepnote this is done in the Dockerfile.\nmpl.rcParams['text.usetex'] = True\nmpl.rcParams['savefig.transparent'] = True\n# mpl.rcParams['savefig.dpi'] = 600",
   "execution_count": 4,
   "outputs": []
  },
  {
   "cell_type": "code",
   "metadata": {
    "cell_id": "d01c30ad71354cdb9d0104561f92435a",
    "tags": [],
    "deepnote_to_be_reexecuted": false,
    "source_hash": "4db9da00",
    "execution_start": 1658346674993,
    "execution_millis": 0,
    "deepnote_cell_type": "code",
    "deepnote_cell_height": 333
   },
   "source": "def plot_awareness():\n    \"\"\"\n    Plot the awareness in the population when there are no new infections\n    \"\"\"\n    fig = plt.figure(figsize=(4.2, 2.8))\n    \n    t, awareness_level = load_data('data/awareness.pkl')\n    label = r'$\\langle \\sum\\limits_{i=0}^{8}\\!P(S_i)\\cdot\\rho^i \\rangle$'\n    plt.plot(t, awareness_level, color='mediumblue', label=label)\n    plt.xlabel(\"Time\")\n    plt.ylabel(\"Awareness\")\n    plt.legend(loc='upper right')\n    plt.tight_layout()\n    plt.savefig(\"figures/awareness_without_infections.png\", dpi=100)\n    plt.show()",
   "execution_count": 5,
   "outputs": []
  },
  {
   "cell_type": "code",
   "metadata": {
    "cell_id": "a3888d1163104b1f8884c058c1d1451a",
    "tags": [],
    "deepnote_to_be_reexecuted": false,
    "source_hash": "42b2e905",
    "execution_start": 1658346674994,
    "execution_millis": 0,
    "deepnote_cell_type": "code",
    "deepnote_cell_height": 441
   },
   "source": "def plot_awareness_compartments(awareness_params, simulation_params, figsize=(4, 2)):\n    \"\"\"\n    Show what awareness and susceptibility level is associated with the awareness compartments\n    \"\"\"\n    fig = plt.figure(figsize=figsize)\n    axes = [fig.add_subplot(1, 2, i+1) for i in range(2)]\n    rho = awareness_params[3]\n    n =  simulation_params[1]\n    sus = np.array(susceptibility(rho, n))\n    awareness = 1 - sus\n    axes[0].bar(np.array(range(n)), awareness)#, color='cornflowerblue') \n    axes[1].bar(np.array(range(n)), sus)#, color='cornflowerblue')\n    for ax in axes:\n        ax.set_xticks(range(n))\n        ax.set_xlabel('compartment')\n    axes[0].set_ylabel('awareness')\n    axes[0].text(5, 0.5, r'$\\rho^i$')\n    axes[1].set_ylabel('susceptibility')\n    fig.tight_layout()\n    fig.savefig('figures/susceptibility_compartments', dpi=180)\n    plt.show()",
   "execution_count": 6,
   "outputs": []
  },
  {
   "cell_type": "code",
   "metadata": {
    "cell_id": "5e9820c0de56445294357971bc45d66a",
    "tags": [],
    "deepnote_to_be_reexecuted": false,
    "source_hash": "a4cf34cb",
    "execution_start": 1658346675036,
    "execution_millis": 1,
    "owner_user_id": "76ddf6ac-32b1-453b-8dad-1d2a6f4837cb",
    "deepnote_cell_type": "code",
    "deepnote_cell_height": 1287
   },
   "source": "def plot_evolution(awareness_params: list, name: str, tm: int, figsize: tuple=(6.25, 3.25))->None:\n    \"\"\"\n    Plot the local spread of S, I and R at t = 0, tm, tmax and show the time evolution of the compartments\n    \"\"\"\n    fig = plt.figure(figsize=figsize)\n    gs = GridSpec(3, 7, width_ratios=(1, 1, 1, 0.1, 0.1, 1, 1))\n    axes = np.array([fig.add_subplot(gs[i, j]) for i in range(3) for j in [0, 1, 2, 5, 6]]).reshape(3, 5)\n    ax_cbar = fig.add_subplot(gs[:, 3])\n    #axes = fig.subplots(3, 6).reshape(3, 6)\n    filename = f'data/{name}_simulation___.' + str_name(awareness_param_names(), parse_params(awareness_params))\n    t, y = load_data(filename)\n    SIR = np.sum(y, axis=3)  # sum over awareness axis, new axes: i, j, SIR, time\n    S = SIR[:, :, 0]\n    I = SIR[:, :, 1]\n    R = SIR[:, :, 2]\n    for i in range(3):\n        aw = np.average(y[:, :, i, :], axis=(0, 1))  # average over grid, susceptible only -> indices: awareness\n        awareness_level = g_awareness(awareness_params[3], aw)\n        axes[i, 3].plot(t, awareness_level, color='mediumblue')\n        n = np.average(SIR[:, :, i], axis=(0, 1))\n        axes[i, 4].plot(t, n, color='darkred')\n        print('SIR'[i], ': ', n[0], n[200], n[-1])\n\n        #dt = t[1:]-t[:-1]\n        #dn = n[1:]-n[:-1]\n        #t_av = 0.5*(t[1:]+t[:-1])\n        #axes[i, 4].plot(t_av, dn/dt, 'darkred')\n    for ax in axes[2,3:]:\n        ax.set_xlabel(\"t\")\n    axes[0,3].set_title(r\"\\textbf{avg. Awareness}\"+\"\\n\")\n    #axes[0,4].set_title(\"Rate (d X / dt)\")\n    axes[0,4].set_title(r\"\\textbf{avg. Amount in}\"+\"\\n\"+r\"\\textbf{Compartment (S/I/R)}\"+\"\\n\")\n\n    \n    kwargs = {\n        'interpolation': 'nearest',\n        'vmin': 0,\n        'vmax': 1\n    }\n    #m = int(S.shape[-1]*frac)\n    m = tm\n    axes[0, 0].matshow(S[..., 0], **kwargs)\n    axes[0, 1].matshow(S[..., m], **kwargs)\n    axes[0, 2].matshow(S[...,-1], **kwargs)\n    axes[1, 0].matshow(I[..., 0], **kwargs)\n    axes[1, 1].matshow(I[..., m], **kwargs)\n    axes[1, 2].matshow(I[...,-1], **kwargs)\n    axes[2, 0].matshow(R[..., 0], **kwargs)\n    axes[2, 1].matshow(R[..., m], **kwargs)\n    im = axes[2, 2].matshow(R[...,-1], **kwargs)\n    axes[0,0].set_title(r\"\\textbf{\"+f\"t={int(t[0])}\"+r\"}\")\n    axes[0,1].set_title(r\"\\textbf{\"+f\"t={int(t[m])}\"+r\"}\")\n    axes[0,2].set_title(r\"\\textbf{\"+f\"t={int(t[-1])}\"+r\"}\")\n    for ax in axes[2,:3]:\n        ax.set_xlabel(\"x\")\n    axes[0,0].set_ylabel(r\"\\textbf{Susceptible}\"+'\\ny')\n    axes[1,0].set_ylabel(r\"\\textbf{Infected}\"+'\\ny')\n    axes[2,0].set_ylabel(r\"\\textbf{Recovered}\"+'\\ny')\n    ax_cbar.figure.colorbar(im, ax_cbar)\n    #fig.suptitle('rows: susceptible, infected, recovered\\n\\\n    #    columns: grid view at different points in time; awareness, rate of SIR, cumulative SIR')\n\n    #n = np.average(SIR[:, :, 2], axis=(0, 1))\n    #print(n[-1])\n\n    fig.tight_layout(pad=0.2, w_pad=0.2, h_pad=0.2)\n    fig.savefig(f\"figures/evolution_{name}.png\", transparent=False)\n    plt.show()",
   "execution_count": 7,
   "outputs": []
  },
  {
   "cell_type": "code",
   "metadata": {
    "cell_id": "3a4b6f0052b049ac9801831e2d6f285d",
    "tags": [],
    "deepnote_to_be_reexecuted": false,
    "source_hash": "ade67c05",
    "execution_start": 1658346675049,
    "execution_millis": 7,
    "deepnote_cell_type": "code",
    "deepnote_cell_height": 1341
   },
   "source": "def plot_evolution_comparison(awareness_paramses: list, names: list, tm: int, figsize: tuple=(6.25, 3.25))->None:\n    \"\"\"\n    Compare two simulation runs with each other\n    \"\"\"\n    fig = plt.figure(figsize=figsize)\n    gs = GridSpec(3, 7, width_ratios=(1, 1, 1, 0.1, 0.1, 1, 1))\n    axes = np.array([fig.add_subplot(gs[i, j]) for i in range(3) for j in [0, 1, 2, 5, 6]]).reshape(3, 5)\n    ax_cbar = fig.add_subplot(gs[:, 3])\n    #axes = fig.subplots(3, 6).reshape(3, 6)\n    for ii, awareness_params, name in zip(range(2), awareness_paramses, names):\n        filename = f'data/{name}_simulation___.' + str_name(awareness_param_names(), awareness_params)\n        t, y = load_data(filename)\n        SIR = np.sum(y, axis=3)  # sum over awareness axis, new axes: i, j, SIR, time\n        S = SIR[:, :, 0]\n        I = SIR[:, :, 1]\n        R = SIR[:, :, 2]\n        for i in range(3):\n            aw = np.average(y[:, :, i, :], axis=(0, 1))  # average over grid, susceptible only -> indices: awareness\n            awareness_level = g_awareness(awareness_params[3], aw)\n            color = 'mediumblue' if ii else 'gray'\n            linestyle = '-' if ii else '--'\n            axes[i, 3].plot(t, awareness_level, color=color, linestyle=linestyle)\n            color = 'darkred' if ii else 'gray'\n            n = np.average(SIR[:, :, i], axis=(0, 1))\n            axes[i, 4].plot(t, n, color=color, linestyle=linestyle)\n\n        #dt = t[1:]-t[:-1]\n        #dn = n[1:]-n[:-1]\n        #t_av = 0.5*(t[1:]+t[:-1])\n        #axes[i, 4].plot(t_av, dn/dt, 'darkred')\n    for ax in axes[2,3:]:\n        ax.set_xlabel(\"t\")\n    axes[0,3].set_title(r\"\\textbf{avg. Awareness}\"+\"\\n\")\n    #axes[0,4].set_title(\"Rate (d X / dt)\")\n    axes[0,4].set_title(r\"\\textbf{avg. Amount in}\"+\"\\n\"+r\"\\textbf{Compartment (S/I/R)}\"+\"\\n\")\n\n    \n    kwargs = {\n        'interpolation': 'nearest',\n        'vmin': 0,\n        'vmax': 1\n    }\n    #m = int(S.shape[-1]*frac)\n    m = tm\n    axes[0, 0].matshow(S[..., 0], **kwargs)\n    axes[0, 1].matshow(S[..., m], **kwargs)\n    axes[0, 2].matshow(S[...,-1], **kwargs)\n    axes[1, 0].matshow(I[..., 0], **kwargs)\n    axes[1, 1].matshow(I[..., m], **kwargs)\n    axes[1, 2].matshow(I[...,-1], **kwargs)\n    axes[2, 0].matshow(R[..., 0], **kwargs)\n    axes[2, 1].matshow(R[..., m], **kwargs)\n    im = axes[2, 2].matshow(R[...,-1], **kwargs)\n    axes[0,0].set_title(r\"\\textbf{\"+f\"t={int(t[0])}\"+r\"}\")\n    axes[0,1].set_title(r\"\\textbf{\"+f\"t={int(t[m])}\"+r\"}\")\n    axes[0,2].set_title(r\"\\textbf{\"+f\"t={int(t[-1])}\"+r\"}\")\n    for ax in axes[2,:3]:\n        ax.set_xlabel(\"x\")\n    axes[0,0].set_ylabel(r\"\\textbf{Susceptible}\"+'\\ny')\n    axes[1,0].set_ylabel(r\"\\textbf{Infected}\"+'\\ny')\n    axes[2,0].set_ylabel(r\"\\textbf{Recovered}\"+'\\ny')\n    ax_cbar.figure.colorbar(im, ax_cbar)\n    #fig.suptitle('rows: susceptible, infected, recovered\\n\\\n    #    columns: grid view at different points in time; awareness, rate of SIR, cumulative SIR')\n\n    #n = np.average(SIR[:, :, 2], axis=(0, 1))\n    #print(n[-1])\n\n    fig.tight_layout(pad=0.2, w_pad=0.2, h_pad=0.2)\n    fig.savefig(f\"figures/evolution_comparison.png\", transparent=False)\n    plt.show()",
   "execution_count": 8,
   "outputs": []
  },
  {
   "cell_type": "code",
   "metadata": {
    "cell_id": "c21f76947066422296ff50c7feeed130",
    "tags": [],
    "deepnote_to_be_reexecuted": false,
    "source_hash": "9c58e037",
    "execution_start": 1658346675104,
    "execution_millis": 0,
    "deepnote_cell_type": "code",
    "deepnote_cell_height": 927
   },
   "source": "def plot_sensitivity_sweep(folder: str, fname: str):\n    \"\"\"\n    Plot the maximum number of simultaneously infected people against a variation of parameters (sensitivity analysis)\n    \"\"\"\n\n    param_names = ['alpha', 'omega', 'lam', 'rho', 'kappa']\n    names = dict(alpha=r'$\\alpha$', omega=r'$\\omega$', lam=r'$\\lambda$', rho=r'$\\rho$', kappa=r'$\\kappa$')\n    markers = dict(alpha='o', omega='^', lam='1', rho='s', kappa='*')\n    colors = dict(alpha='cyan', omega='darkred', lam='orange', rho='tab:brown', kappa='tab:cyan')\n    \n    # default\n    default_values, default_concurrent_infections = load_data(f'{folder}/variation_default.pkl')\n\n    fig = plt.figure(figsize=(8, 4))\n    axes = [fig.add_subplot(1, 2, i+1) for i in range(2)]\n\n    # variations\n    for param, default in zip(param_names[0:3], default_values[:3]):\n        param_values, concurrent_infections = load_data( f'{folder}/variation_{param}.pkl')\n        print(param, param_values, concurrent_infections)\n        axes[0].scatter(np.array(param_values)/default, concurrent_infections, marker=markers[param], label = names[param])\n    axes[0].plot([1], default_concurrent_infections, 'kh', label='reference\\npoint')\n    axes[0].legend()\n    axes[0].set_ylabel(\"max. concurrent infections\")\n    axes[0].set_xlabel(r\"$X / X_{\\mathrm{ref}}, \\qquad X = \\alpha, \\omega, \\lambda$\")\n\n    for param, default in zip(param_names[3:], default_values[3:]):\n        param_values, concurrent_infections = load_data( f'{folder}/variation_{param}.pkl')\n        print(param, param_values, concurrent_infections)\n        s = axes[1].scatter(param_values, concurrent_infections, marker=markers[param], label = names[param], color=colors[param])\n        axes[1].plot(default, default_concurrent_infections, 'h', color=s.get_facecolor(), label='reference')\n    axes[1].legend()\n    axes[1].set_ylabel(\"max. concurrent infections\")\n    axes[1].set_xlabel(\"$\\\\rho, \\\\kappa$\")\n\n    for ax in axes:\n        ax.set_ylim(0, 0.3)\n    \n    axes[0].set_xscale('log')\n    xticks = [0.5, 0.71, 1, 1.41, 2]\n    axes[0].set_xticks(xticks, [str(x) for x in xticks])\n    axes[0].set_xticks(np.linspace(xticks[0], xticks[-1], int((xticks[-1]-xticks[0])/0.1+1)), [], minor=True)\n\n    fig.tight_layout()\n    fig.savefig(f\"{fname}\")\n    plt.show()\n\n",
   "execution_count": 9,
   "outputs": []
  },
  {
   "cell_type": "code",
   "metadata": {
    "cell_id": "2b9626d2373445418342ecaba3851c85",
    "tags": [],
    "deepnote_to_be_reexecuted": false,
    "source_hash": "b623e53d",
    "execution_start": 1658346675105,
    "execution_millis": 0,
    "deepnote_cell_type": "code",
    "deepnote_cell_height": 66
   },
   "source": "",
   "execution_count": 9,
   "outputs": []
  },
  {
   "cell_type": "markdown",
   "source": "<a style='text-decoration:none;line-height:16px;display:flex;color:#5B5B62;padding:10px;justify-content:end;' href='https://deepnote.com?utm_source=created-in-deepnote-cell&projectId=ac0f8ce2-3132-47be-a4d1-6216636e93ff' target=\"_blank\">\n<img alt='Created in deepnote.com' style='display:inline;max-height:16px;margin:0px;margin-right:7.5px;' src='data:image/svg+xml;base64,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' > </img>\nCreated in <span style='font-weight:600;margin-left:4px;'>Deepnote</span></a>",
   "metadata": {
    "tags": [],
    "created_in_deepnote_cell": true,
    "deepnote_cell_type": "markdown"
   }
  }
 ],
 "nbformat": 4,
 "nbformat_minor": 2,
 "metadata": {
  "orig_nbformat": 2,
  "deepnote": {},
  "deepnote_notebook_id": "7d831be6-e792-4b0c-8465-3e91f7923da5",
  "deepnote_execution_queue": []
 }
}