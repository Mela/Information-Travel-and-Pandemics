{
 "cells": [
  {
   "cell_type": "code",
   "metadata": {
    "cell_id": "d90a4b50a2d04dcdb20ad3d3e5b21839",
    "tags": [],
    "deepnote_to_be_reexecuted": false,
    "source_hash": "83133b00",
    "execution_start": 1657810416069,
    "execution_millis": 758791,
    "deepnote_cell_type": "code",
    "deepnote_cell_height": 81
   },
   "source": "## zum Erstellen von Plots",
   "execution_count": null,
   "outputs": []
  },
  {
   "cell_type": "markdown",
   "source": "## Plot File\n\nThis file is used to create the plots. <br>\nFor this are following libraries: <b>numpy</b>, <b>matplotlib</b> and <b>ipynb</b> required.\nX (HIER ZAHL EINFÜGEN) different plots are created. Each for <b>Awareness, Evolution, Time Development, Awareness Reconstruct</b> and <b>..</b> (Gibt es dafür erklärende Namen???)\nDetaild aspects and code-design decisions are being explained in the functions itself.\n",
   "metadata": {
    "cell_id": "f0667a2b1d9749c2b2a48e39fade23e5",
    "tags": [],
    "owner_user_id": "3b9ba80c-594d-4b79-94ee-44f4ba44168b",
    "deepnote_cell_type": "markdown",
    "deepnote_cell_height": 175.60000610351562
   }
  },
  {
   "cell_type": "code",
   "metadata": {
    "cell_id": "120e72db185348fb988f6a2d282d7a4a",
    "tags": [],
    "deepnote_to_be_reexecuted": false,
    "source_hash": "b092bac4",
    "execution_start": 1657810416070,
    "execution_millis": 1415,
    "deepnote_cell_type": "code",
    "deepnote_cell_height": 225
   },
   "source": "import numpy as np\nimport matplotlib as mpl\nimport matplotlib.pyplot as plt\nfrom matplotlib.gridspec import GridSpec\nimport import_ipynb\nimport pickle\nfrom itertools import product\nfrom functools import partial\n",
   "execution_count": null,
   "outputs": []
  },
  {
   "cell_type": "code",
   "metadata": {
    "cell_id": "bb407a011cbd48f4a078b80f63d03c0b",
    "tags": [],
    "deepnote_to_be_reexecuted": false,
    "source_hash": "c4de228e",
    "execution_start": 1657810417492,
    "execution_millis": 60,
    "owner_user_id": "76ddf6ac-32b1-453b-8dad-1d2a6f4837cb",
    "deepnote_cell_type": "code",
    "deepnote_cell_height": 170.60000610351562
   },
   "source": "from awareness import susceptibility, g2, awareness_SIR \nfrom analysis import load_data, str_name, awareness_param_names",
   "execution_count": null,
   "outputs": [
    {
     "name": "stdout",
     "text": "importing Jupyter notebook from awareness.ipynb\nimporting Jupyter notebook from analysis.ipynb\nimporting Jupyter notebook from rk4.ipynb\n",
     "output_type": "stream"
    }
   ]
  },
  {
   "cell_type": "code",
   "metadata": {
    "cell_id": "dfe18d8690034cb9a2d0967c6110a2e3",
    "tags": [],
    "deepnote_to_be_reexecuted": false,
    "source_hash": "354df1fe",
    "execution_start": 1657810417556,
    "execution_millis": 3,
    "deepnote_cell_type": "code",
    "deepnote_cell_height": 261
   },
   "source": "# update matplotlib style\n\n# Use LaTeX for rendering with matplotlib.\n# For this texlive etc. has to be installed on the machine running the notebook.\n# For Deepnote this is done in the Dockerfile.\nmpl.rcParams['text.usetex'] = True\n# plt.rc('text.latex', preamble=r'\\usepackage{amsmath}')\n\nmpl.rcParams['savefig.transparent'] = True\n# mpl.rcParams['figure.dpi'] = 600\nmpl.rcParams['savefig.dpi'] = 600",
   "execution_count": null,
   "outputs": []
  },
  {
   "cell_type": "code",
   "metadata": {
    "cell_id": "5e9820c0de56445294357971bc45d66a",
    "tags": [],
    "deepnote_to_be_reexecuted": false,
    "source_hash": "c18b6686",
    "execution_start": 1657810417591,
    "execution_millis": 1,
    "deepnote_cell_type": "code",
    "deepnote_cell_height": 1251
   },
   "source": "def plot_evolution(awareness_params: list, name: str, tm: int, figsize: tuple=(6.25, 3.25))->None:\n    fig = plt.figure(figsize=figsize)\n    gs = GridSpec(3, 7, width_ratios=(1, 1, 1, 0.1, 0.1, 1, 1))\n    axes = np.array([fig.add_subplot(gs[i, j]) for i in range(3) for j in [0, 1, 2, 5, 6]]).reshape(3, 5)\n    ax_cbar = fig.add_subplot(gs[:, 3])\n    #axes = fig.subplots(3, 6).reshape(3, 6)\n    filename = f'data/{name}_simulation___.' + str_name(awareness_param_names(), awareness_params)\n    t, y = load_data(filename)\n    SIR = np.sum(y, axis=3)  # sum over awareness axis, new axes: i, j, SIR, time\n    S = SIR[:, :, 0]\n    I = SIR[:, :, 1]\n    R = SIR[:, :, 2]\n    for i in range(3):\n        aw = np.average(y[:, :, i, :], axis=(0, 1))  # average over grid, susceptible only -> indices: awareness\n        awareness_level = g2(awareness_params[3], aw)\n        axes[i, 3].plot(t, awareness_level, color='mediumblue')\n\n        n = np.average(SIR[:, :, i], axis=(0, 1))\n        axes[i, 4].plot(t, n, color='darkred')\n        print(n[0], n[200], n[-1])\n\n        #dt = t[1:]-t[:-1]\n        #dn = n[1:]-n[:-1]\n        #t_av = 0.5*(t[1:]+t[:-1])\n        #axes[i, 4].plot(t_av, dn/dt, 'darkred')\n    for ax in axes[2,4:]:\n        ax.set_xlabel(\"t\")\n    axes[0,3].set_title(r\"\\textbf{avg. Awareness}\"+\"\\n\")\n    #axes[0,4].set_title(\"Rate (d X / dt)\")\n    axes[0,4].set_title(r\"\\textbf{avg. Amount in}\"+\"\\n\"+r\"\\textbf{Compartment (S/I/R)}\"+\"\\n\")\n\n    \n    kwargs = {\n        'interpolation': 'nearest',\n        'vmin': 0,\n        'vmax': 1\n    }\n    #m = int(S.shape[-1]*frac)\n    m = tm\n    axes[0, 0].matshow(S[..., 0], **kwargs)\n    axes[0, 1].matshow(S[..., m], **kwargs)\n    axes[0, 2].matshow(S[...,-1], **kwargs)\n    axes[1, 0].matshow(I[..., 0], **kwargs)\n    axes[1, 1].matshow(I[..., m], **kwargs)\n    axes[1, 2].matshow(I[...,-1], **kwargs)\n    axes[2, 0].matshow(R[..., 0], **kwargs)\n    axes[2, 1].matshow(R[..., m], **kwargs)\n    im = axes[2, 2].matshow(R[...,-1], **kwargs)\n    axes[0,0].set_title(r\"\\textbf{\"+f\"t={int(t[0])}\"+r\"}\")\n    axes[0,1].set_title(r\"\\textbf{\"+f\"t={int(t[m])}\"+r\"}\")\n    axes[0,2].set_title(r\"\\textbf{\"+f\"t={int(t[-1])}\"+r\"}\")\n    for ax in axes[2,:]:\n        ax.set_xlabel(\"x\")\n    axes[0,0].set_ylabel(r\"\\textbf{Susceptible}\"+'\\ny')\n    axes[1,0].set_ylabel(r\"\\textbf{Infected}\"+'\\ny')\n    axes[2,0].set_ylabel(r\"\\textbf{Recovered}\"+'\\ny')\n    ax_cbar.figure.colorbar(im, ax_cbar)\n    #fig.suptitle('rows: susceptible, infected, recovered\\n\\\n    #    columns: grid view at different points in time; awareness, rate of SIR, cumulative SIR')\n\n    #n = np.average(SIR[:, :, 2], axis=(0, 1))\n    #print(n[-1])\n\n    fig.tight_layout(pad=0.2, w_pad=0.2, h_pad=0.2)\n    fig.savefig(f\"figures/{name}_evolution.png\", transparent=False)\n    plt.show()",
   "execution_count": null,
   "outputs": []
  },
  {
   "cell_type": "code",
   "metadata": {
    "cell_id": "3a4b6f0052b049ac9801831e2d6f285d",
    "tags": [],
    "deepnote_to_be_reexecuted": false,
    "source_hash": "59166abd",
    "execution_start": 1657810417593,
    "execution_millis": 17,
    "deepnote_cell_type": "code",
    "deepnote_cell_height": 1287
   },
   "source": "def plot_evolution_comparison(awareness_paramses: list, names: list, tm: int, figsize: tuple=(6.25, 3.25))->None:\n    fig = plt.figure(figsize=figsize)\n    gs = GridSpec(3, 7, width_ratios=(1, 1, 1, 0.1, 0.1, 1, 1))\n    axes = np.array([fig.add_subplot(gs[i, j]) for i in range(3) for j in [0, 1, 2, 5, 6]]).reshape(3, 5)\n    ax_cbar = fig.add_subplot(gs[:, 3])\n    #axes = fig.subplots(3, 6).reshape(3, 6)\n    for ii, awareness_params, name in zip(range(2), awareness_paramses, names):\n        filename = f'data/{name}_simulation___.' + str_name(awareness_param_names(), awareness_params)\n        t, y = load_data(filename)\n        SIR = np.sum(y, axis=3)  # sum over awareness axis, new axes: i, j, SIR, time\n        S = SIR[:, :, 0]\n        I = SIR[:, :, 1]\n        R = SIR[:, :, 2]\n        for i in range(3):\n            aw = np.average(y[:, :, i, :], axis=(0, 1))  # average over grid, susceptible only -> indices: awareness\n            awareness_level = g2(awareness_params[3], aw)\n            color = 'mediumblue' if ii else 'gray'\n            linestyle = '-' if ii else '--'\n            axes[i, 3].plot(t, awareness_level, color=color, linestyle=linestyle)\n            color = 'darkred' if ii else 'gray'\n            n = np.average(SIR[:, :, i], axis=(0, 1))\n            axes[i, 4].plot(t, n, color=color, linestyle=linestyle)\n\n        #dt = t[1:]-t[:-1]\n        #dn = n[1:]-n[:-1]\n        #t_av = 0.5*(t[1:]+t[:-1])\n        #axes[i, 4].plot(t_av, dn/dt, 'darkred')\n    for ax in axes[2,4:]:\n        ax.set_xlabel(\"t\")\n    axes[0,3].set_title(r\"\\textbf{avg. Awareness}\"+\"\\n\")\n    #axes[0,4].set_title(\"Rate (d X / dt)\")\n    axes[0,4].set_title(r\"\\textbf{avg. Amount in}\"+\"\\n\"+r\"\\textbf{Compartment (S/I/R)}\"+\"\\n\")\n\n    \n    kwargs = {\n        'interpolation': 'nearest',\n        'vmin': 0,\n        'vmax': 1\n    }\n    #m = int(S.shape[-1]*frac)\n    m = tm\n    axes[0, 0].matshow(S[..., 0], **kwargs)\n    axes[0, 1].matshow(S[..., m], **kwargs)\n    axes[0, 2].matshow(S[...,-1], **kwargs)\n    axes[1, 0].matshow(I[..., 0], **kwargs)\n    axes[1, 1].matshow(I[..., m], **kwargs)\n    axes[1, 2].matshow(I[...,-1], **kwargs)\n    axes[2, 0].matshow(R[..., 0], **kwargs)\n    axes[2, 1].matshow(R[..., m], **kwargs)\n    im = axes[2, 2].matshow(R[...,-1], **kwargs)\n    axes[0,0].set_title(r\"\\textbf{\"+f\"t={int(t[0])}\"+r\"}\")\n    axes[0,1].set_title(r\"\\textbf{\"+f\"t={int(t[m])}\"+r\"}\")\n    axes[0,2].set_title(r\"\\textbf{\"+f\"t={int(t[-1])}\"+r\"}\")\n    for ax in axes[2,:]:\n        ax.set_xlabel(\"x\")\n    axes[0,0].set_ylabel(r\"\\textbf{Susceptible}\"+'\\ny')\n    axes[1,0].set_ylabel(r\"\\textbf{Infected}\"+'\\ny')\n    axes[2,0].set_ylabel(r\"\\textbf{Recovered}\"+'\\ny')\n    ax_cbar.figure.colorbar(im, ax_cbar)\n    #fig.suptitle('rows: susceptible, infected, recovered\\n\\\n    #    columns: grid view at different points in time; awareness, rate of SIR, cumulative SIR')\n\n    #n = np.average(SIR[:, :, 2], axis=(0, 1))\n    #print(n[-1])\n\n    fig.tight_layout(pad=0.2, w_pad=0.2, h_pad=0.2)\n    fig.savefig(f\"figures/comparison_evolution.png\", transparent=False)\n    plt.show()",
   "execution_count": null,
   "outputs": []
  },
  {
   "cell_type": "code",
   "metadata": {
    "cell_id": "c90f4c6cb99e4da3a2d8c7633b91e886",
    "tags": [],
    "deepnote_to_be_reexecuted": false,
    "source_hash": "20fedc53",
    "execution_start": 1657810417613,
    "execution_millis": 23,
    "deepnote_cell_type": "code",
    "deepnote_cell_height": 711,
    "deepnote_output_heights": [
     38
    ]
   },
   "source": "\"\"\"\ndef find_param(parameters: np.array, stdparams = [5.0,0.4,0.5,0.7,0.5]):\n    #returns the index of the parameter which has been changed and the factor\n    for i in range(len(parameters)):\n        if parameters[i]!= stdparams[i]:\n            factor = parameters[i]/stdparams[i]\n            return (i,factor)\n        else:\n\ndef filename2paramlist(fname):\n    #returns a list of used parameters given by the filename\n    params = fname[:-4].split(\"___\") #exclude ending and split into different parameters\n    paramlist = []\n    print(params)\n    for p in params:\n        try:\n            _, value = p.split(\"_\") #split parameter name and value\n            paramlist.append(float(value))\n        except:\n            return []\n        \n    return paramlist\n\n\ndef get_data_from_files():\n    data = []\n    for filename in os.listdir(\"data\"):\n        with open(os.path.join(\"data\", filename), 'rb') as f:\n            t,y = pickle.load(f)\n        p = filename2paramlist(filename)\n        data.append((t,y,p))\n    return data\n\"\"\"",
   "execution_count": null,
   "outputs": [
    {
     "output_type": "execute_result",
     "execution_count": 7,
     "data": {
      "text/plain": "'\\ndef find_param(parameters: np.array, stdparams = [5.0,0.4,0.5,0.7,0.5]):\\n    #returns the index of the parameter which has been changed and the factor\\n    for i in range(len(parameters)):\\n        if parameters[i]!= stdparams[i]:\\n            factor = parameters[i]/stdparams[i]\\n            return (i,factor)\\n        else:\\n\\ndef filename2paramlist(fname):\\n    #returns a list of used parameters given by the filename\\n    params = fname[:-4].split(\"___\") #exclude ending and split into different parameters\\n    paramlist = []\\n    print(params)\\n    for p in params:\\n        try:\\n            _, value = p.split(\"_\") #split parameter name and value\\n            paramlist.append(float(value))\\n        except:\\n            return []\\n        \\n    return paramlist\\n\\n\\ndef get_data_from_files():\\n    data = []\\n    for filename in os.listdir(\"data\"):\\n        with open(os.path.join(\"data\", filename), \\'rb\\') as f:\\n            t,y = pickle.load(f)\\n        p = filename2paramlist(filename)\\n        data.append((t,y,p))\\n    return data\\n'"
     },
     "metadata": {}
    }
   ]
  },
  {
   "cell_type": "code",
   "metadata": {
    "cell_id": "d01c30ad71354cdb9d0104561f92435a",
    "tags": [],
    "deepnote_to_be_reexecuted": false,
    "source_hash": "f3d2cd8b",
    "execution_start": 1657810417637,
    "execution_millis": 0,
    "owner_user_id": "824824b9-26fb-48d4-a647-bc29df407f3a",
    "deepnote_cell_type": "code",
    "deepnote_cell_height": 279
   },
   "source": "def plot_awareness():\n    fig = plt.figure(figsize=(4.2, 2.8))\n    \n    t, awareness_level = load_data('data/awareness.pkl')\n    label = r'$\\langle \\sum\\limits_{i=0}^{8}\\!P(S_i)\\cdot\\rho^i \\rangle$'\n    plt.plot(t, awareness_level, color='mediumblue', label=label)\n    plt.xlabel(\"Time\")\n    plt.ylabel(\"Awareness\")\n    plt.legend(loc='upper right')\n    plt.tight_layout()\n    plt.savefig(\"figures/awareness_no_infections.png\")\n    plt.show()",
   "execution_count": null,
   "outputs": []
  },
  {
   "cell_type": "code",
   "metadata": {
    "cell_id": "72b5dd23bebb42d58c622f573ff268c8",
    "tags": [],
    "deepnote_to_be_reexecuted": false,
    "source_hash": "adc8b3ce",
    "execution_start": 1657810417639,
    "execution_millis": 955,
    "deepnote_cell_type": "code",
    "deepnote_cell_height": 311,
    "deepnote_output_heights": [
     196
    ]
   },
   "source": "if __name__ == '__main__':\n    plot_awareness()",
   "execution_count": null,
   "outputs": [
    {
     "data": {
      "text/plain": "<Figure size 302.4x201.6 with 1 Axes>",
      "image/png": "[encoded data removed]"
     },
     "metadata": {
      "needs_background": "light",
      "image/png": {
       "width": 295,
       "height": 194
      }
     },
     "output_type": "display_data"
    }
   ]
  },
  {
   "cell_type": "code",
   "metadata": {
    "cell_id": "c21f76947066422296ff50c7feeed130",
    "tags": [],
    "deepnote_to_be_reexecuted": false,
    "source_hash": "72776208",
    "execution_start": 1657810418640,
    "execution_millis": 3,
    "deepnote_cell_type": "code",
    "deepnote_cell_height": 891
   },
   "source": "def plot_sweep(fname=\"sweep.png\"):\n    #plot the highest number of infected against multiple of standard constellation for each parameter\n\n    param_names = ['alpha', 'omega', 'lam', 'rho', 'kappa']\n    names = dict(alpha=r'$\\alpha$', omega=r'$\\omega$', lam=r'$\\lambda$', rho=r'$\\rho$', kappa=r'$\\kappa$')\n    markers = dict(alpha='o', omega='^', lam='1', rho='s', kappa='*')\n    colors = dict(alpha='cyan', omega='darkred', lam='orange', rho='tab:brown', kappa='tab:cyan')\n    \n    # default\n    default_values, default_concurrent_infections = load_data(f'data/variation_default.pkl')\n\n    fig = plt.figure(figsize=(8, 4))\n    axes = [fig.add_subplot(1, 2, i+1) for i in range(2)]\n\n    # variations\n    for param, default in zip(param_names[0:3], default_values[:3]):\n        param_values, concurrent_infections = load_data( f'data/variation_{param}.pkl')\n        print(param, param_values, concurrent_infections)\n        axes[0].scatter(np.array(param_values)/default, concurrent_infections, marker=markers[param], label = names[param])\n    axes[0].plot([1], default_concurrent_infections, 'kh', label='reference\\npoint')\n    axes[0].legend()\n    axes[0].set_ylabel(\"max. concurrent infections\")\n    axes[0].set_xlabel(r\"$X / X_{\\mathrm{ref}}, \\qquad X = \\alpha, \\omega, \\lambda$\")\n\n    for param, default in zip(param_names[3:], default_values[3:]):\n        param_values, concurrent_infections = load_data( f'data/variation_{param}.pkl')\n        print(param, param_values, concurrent_infections)\n        s = axes[1].scatter(param_values, concurrent_infections, marker=markers[param], label = names[param], color=colors[param])\n        axes[1].plot(default, default_concurrent_infections, 'h', color=s.get_facecolor(), label='reference')\n    axes[1].legend()\n    axes[1].set_ylabel(\"max. concurrent infections\")\n    axes[1].set_xlabel(\"$\\\\rho, \\\\kappa$\")\n\n    for ax in axes:\n        ax.set_ylim(0, 0.3)\n    \n    axes[0].set_xscale('log')\n    xticks = [0.5, 0.71, 1, 1.41, 2]\n    axes[0].set_xticks(xticks, [str(x) for x in xticks])\n    axes[0].set_xticks(np.linspace(xticks[0], xticks[-1], int((xticks[-1]-xticks[0])/0.1+1)), [], minor=True)\n\n    fig.tight_layout()\n    fig.savefig(f\"figures/{fname}\")\n    plt.show()\n\n",
   "execution_count": null,
   "outputs": []
  },
  {
   "cell_type": "code",
   "metadata": {
    "cell_id": "a4501c76e8e84c30ac47555232b58dc4",
    "tags": [],
    "deepnote_to_be_reexecuted": false,
    "source_hash": "3b71ffd6",
    "execution_start": 1657810418640,
    "execution_millis": 2156,
    "deepnote_cell_type": "code",
    "deepnote_cell_height": 541,
    "deepnote_output_heights": [
     null,
     282
    ]
   },
   "source": "if __name__ == '__main__':\n    plot_sweep()",
   "execution_count": null,
   "outputs": [
    {
     "name": "stdout",
     "text": "alpha [0.03, 0.03657040962613426, 0.04457982867410845, 0.05434341985583439, 0.06624537082042874, 0.08075401155794136, 0.09844024272091653, 0.12] [0.1325608058806156, 0.12566085759084855, 0.11837728802430043, 0.11096002219155446, 0.1036325589125874, 0.09655163553526554, 0.08981838568052439, 0.0834866876716378]\nomega [0.03, 0.03657040962613426, 0.04457982867410845, 0.05434341985583439, 0.06624537082042874, 0.08075401155794136, 0.09844024272091653, 0.12] [0.14739837349608043, 0.13704516090893828, 0.12572851335886237, 0.11358497720533159, 0.1008511177468836, 0.08786100306680635, 0.07502173768421393, 0.06276281712140008]\nlam [0.025, 0.030475341355111887, 0.03714985722842371, 0.04528618321319533, 0.055204475683690614, 0.06729500963161782, 0.08203353560076379, 0.1] [0.07190431444080049, 0.08103741734435599, 0.09104218398588088, 0.1017368792435589, 0.11289333297962967, 0.12424824113895562, 0.13553635326740618, 0.1464926555971383]\nrho [0.1, 0.2142857142857143, 0.3285714285714286, 0.44285714285714284, 0.5571428571428572, 0.6714285714285715, 0.7857142857142857, 0.9] [0.16670157124970464, 0.1608686614248682, 0.15214790968446393, 0.1388229262637179, 0.11794041655248794, 0.08497567966835187, 0.037516329544906156, 0.0028817098297541114]\nkappa [0.1, 0.2142857142857143, 0.3285714285714286, 0.44285714285714284, 0.5571428571428572, 0.6714285714285715, 0.7857142857142857, 0.9] [0.16594114904346757, 0.15607600262501264, 0.14563115145772665, 0.13456978258717406, 0.1228615362075933, 0.11047629790916352, 0.09740922275719271, 0.08367937463507369]\n",
     "output_type": "stream"
    },
    {
     "data": {
      "text/plain": "<Figure size 576x288 with 2 Axes>",
      "image/png": "[encoded data removed]"
     },
     "metadata": {
      "needs_background": "light",
      "image/png": {
       "width": 568,
       "height": 280
      }
     },
     "output_type": "display_data"
    }
   ]
  },
  {
   "cell_type": "code",
   "metadata": {
    "cell_id": "b6df82b0ccc44697ab8a96cdc29ce25f",
    "tags": [],
    "deepnote_to_be_reexecuted": false,
    "source_hash": "b623e53d",
    "execution_start": 1657810420798,
    "execution_millis": 4,
    "deepnote_cell_type": "code",
    "deepnote_cell_height": 81
   },
   "source": "",
   "execution_count": null,
   "outputs": []
  },
  {
   "cell_type": "code",
   "metadata": {
    "cell_id": "a3888d1163104b1f8884c058c1d1451a",
    "tags": [],
    "deepnote_to_be_reexecuted": false,
    "source_hash": "7c096c70",
    "execution_start": 1657810420854,
    "execution_millis": 0,
    "deepnote_cell_type": "code",
    "deepnote_cell_height": 387
   },
   "source": "def plot_awareness_compartments(awareness_params, simulation_params, figsize=(4, 2)):\n    fig = plt.figure(figsize=figsize)\n    axes = [fig.add_subplot(1, 2, i+1) for i in range(2)]\n    rho = awareness_params[3]\n    n =  simulation_params[1]\n    sus = np.array(susceptibility(rho, n))\n    awareness = 1 - sus\n    axes[0].bar(np.array(range(n)), awareness)#, color='cornflowerblue') \n    axes[1].bar(np.array(range(n)), sus)#, color='cornflowerblue')\n    for ax in axes:\n        ax.set_xticks(range(n))\n        ax.set_xlabel('compartment')\n    axes[0].set_ylabel('awareness')\n    axes[0].text(5, 0.5, r'$\\rho^i$')\n    axes[1].set_ylabel('susceptibility')\n    fig.tight_layout()\n    fig.savefig('figures/susceptibility_compartments')\n    plt.show()",
   "execution_count": null,
   "outputs": []
  },
  {
   "cell_type": "code",
   "metadata": {
    "cell_id": "2a9e77357a9847ec96330b673a60137c",
    "tags": [],
    "deepnote_to_be_reexecuted": false,
    "source_hash": "b623e53d",
    "execution_start": 1657810420855,
    "execution_millis": 758556,
    "deepnote_cell_type": "code",
    "deepnote_cell_height": 81
   },
   "source": "",
   "execution_count": null,
   "outputs": []
  },
  {
   "cell_type": "markdown",
   "source": "<a style='text-decoration:none;line-height:16px;display:flex;color:#5B5B62;padding:10px;justify-content:end;' href='https://deepnote.com?utm_source=created-in-deepnote-cell&projectId=ac0f8ce2-3132-47be-a4d1-6216636e93ff' target=\"_blank\">\n<img alt='Created in deepnote.com' style='display:inline;max-height:16px;margin:0px;margin-right:7.5px;' src='data:image/svg+xml;base64,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' > </img>\nCreated in <span style='font-weight:600;margin-left:4px;'>Deepnote</span></a>",
   "metadata": {
    "tags": [],
    "created_in_deepnote_cell": true,
    "deepnote_cell_type": "markdown"
   }
  }
 ],
 "nbformat": 4,
 "nbformat_minor": 2,
 "metadata": {
  "orig_nbformat": 2,
  "deepnote": {},
  "deepnote_notebook_id": "7d831be6-e792-4b0c-8465-3e91f7923da5",
  "deepnote_execution_queue": []
 }
}