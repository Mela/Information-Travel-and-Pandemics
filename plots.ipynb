{
 "cells": [
  {
   "cell_type": "code",
   "metadata": {
    "cell_id": "d90a4b50a2d04dcdb20ad3d3e5b21839",
    "tags": [],
    "deepnote_to_be_reexecuted": false,
    "source_hash": "83133b00",
    "execution_start": 1657560195445,
    "execution_millis": 48,
    "deepnote_cell_type": "code",
    "deepnote_cell_height": 81
   },
   "source": "## zum Erstellen von Plots",
   "execution_count": null,
   "outputs": []
  },
  {
   "cell_type": "markdown",
   "source": "## Plot File\n\nThis file is used to create the plots. <br>\nFor this are following libraries: <b>numpy</b>, <b>matplotlib</b> and <b>ipynb</b> required.",
   "metadata": {
    "cell_id": "f0667a2b1d9749c2b2a48e39fade23e5",
    "tags": [],
    "owner_user_id": "3b9ba80c-594d-4b79-94ee-44f4ba44168b",
    "deepnote_cell_type": "markdown",
    "deepnote_cell_height": 130.8000030517578
   }
  },
  {
   "cell_type": "code",
   "metadata": {
    "tags": [],
    "cell_id": "65b4464b-3193-429a-a42b-00fbe83449da",
    "deepnote_to_be_reexecuted": false,
    "source_hash": "378eeb54",
    "execution_start": 1657560195494,
    "execution_millis": 0,
    "deepnote_cell_type": "code",
    "deepnote_cell_height": 99
   },
   "source": "#parameter comparison plot \n#Durchschnittsfall verbildlichen von den Ausbreitungen in 2D ",
   "execution_count": null,
   "outputs": []
  },
  {
   "cell_type": "code",
   "metadata": {
    "cell_id": "120e72db185348fb988f6a2d282d7a4a",
    "tags": [],
    "deepnote_to_be_reexecuted": false,
    "source_hash": "d7cb23a2",
    "execution_start": 1657560195494,
    "execution_millis": 1490,
    "deepnote_cell_type": "code",
    "deepnote_cell_height": 183.1999969482422
   },
   "source": "import numpy as np\nimport matplotlib.pyplot as plt\nimport import_ipynb\n\nfrom awareness import susceptibility, g2, awareness_SIR ",
   "execution_count": null,
   "outputs": [
    {
     "name": "stdout",
     "text": "importing Jupyter notebook from awareness.ipynb\n",
     "output_type": "stream"
    }
   ]
  },
  {
   "cell_type": "code",
   "metadata": {
    "cell_id": "2bf1562577924dc3973535a2c608d523",
    "tags": [],
    "deepnote_to_be_reexecuted": false,
    "source_hash": "8f538c2c",
    "execution_start": 1657560196485,
    "execution_millis": 1,
    "deepnote_cell_type": "code",
    "deepnote_cell_height": 279
   },
   "source": "def plot_awareness(y: np.ndarray, t: np.ndarray, parameters: dict, fname: str)->None:\n    awareness_all = 0\n    for i in range(3):\n        awareness_average = np.average(y[:, :, i, :], axis=(0, 1))  \n        awareness_level = g2(parameters['rho'], awareness_average) \n        awareness_all +=awareness_level #sum over all states (SIR) to get full awareness\n    plt.plot(t, awareness_all)\n    plt.xlabel(\"Time\")\n    plt.ylabel(\"Awareness\")\n    plt.savefig(fname)\n    plt.show()\n",
   "execution_count": null,
   "outputs": []
  },
  {
   "cell_type": "code",
   "metadata": {
    "cell_id": "f806dce92b054d1391aea01c97c4482f",
    "tags": [],
    "deepnote_to_be_reexecuted": false,
    "source_hash": "1d3904c0",
    "execution_start": 1657560196508,
    "execution_millis": 1,
    "deepnote_cell_type": "code",
    "deepnote_cell_height": 99
   },
   "source": "#def plot_params(fname): #oder direkt mehrere filenames?\n",
   "execution_count": null,
   "outputs": []
  },
  {
   "cell_type": "code",
   "metadata": {
    "cell_id": "5e9820c0de56445294357971bc45d66a",
    "tags": [],
    "deepnote_to_be_reexecuted": false,
    "source_hash": "522e4043",
    "execution_start": 1657560196509,
    "execution_millis": 1,
    "owner_user_id": "824824b9-26fb-48d4-a647-bc29df407f3a",
    "deepnote_cell_type": "code",
    "deepnote_cell_height": 1125
   },
   "source": "def plot_analysis(y: np.ndarray, t:np.ndarray, parameters: dict, fname: str)->None:\n    fig = plt.figure(figsize=(18, 10))\n    axes = fig.subplots(3, 6).reshape(3, 6)\n    SIR = np.sum(y, axis=3)  # sum over awareness axis, new axes: i, j, SIR, time\n    S = SIR[:, :, 0]\n    I = SIR[:, :, 1]\n    R = SIR[:, :, 2]\n    for i in range(3):\n        aw = np.average(y[:, :, i, :], axis=(0, 1))  # average over grid, susceptible only -> indices: awareness\n        awareness_level = g2(parameters['rho'], aw)\n        axes[i, 3].plot(t, awareness_level)\n\n        n = np.average(SIR[:, :, i], axis=(0, 1))\n        axes[i, 5].plot(t, n, 'orange')\n\n        dt = t[1:]-t[:-1]\n        dn = n[1:]-n[:-1]\n        t_av = 0.5*(t[1:]+t[:-1])\n        axes[i, 4].plot(t_av, dn/dt, 'darkred')\n    axes[2,4].set_xlabel(\"t\")\n    axes[0,3].set_title(\"Awareness\")\n    axes[0,4].set_title(\"Rate (d X / dt)\")\n    axes[0,5].set_title(\"Cumulative X (S/I/R)\")\n\n    \n    kwargs = {\n        'interpolation': 'nearest',\n        'vmin': 0,\n        'vmax': 1\n    }\n    print(f'probability conserved: {np.array([np.sum(y[i, j], axis=(0, 1)).all() for i in range(y.shape[0]) for j in range(y.shape[1])]).all()}')\n    m = int(S.shape[-1]/2)\n    axes[0, 0].matshow(S[..., 0], **kwargs)\n    axes[0, 1].matshow(S[..., m], **kwargs)\n    axes[0, 2].matshow(S[...,-1], **kwargs)\n    axes[1, 0].matshow(I[..., 0], **kwargs)\n    axes[1, 1].matshow(I[..., m], **kwargs)\n    axes[1, 2].matshow(I[...,-1], **kwargs)\n    axes[2, 0].matshow(R[..., 0], **kwargs)\n    axes[2, 1].matshow(R[..., m], **kwargs)\n    im = axes[2, 2].matshow(R[...,-1], **kwargs)\n    axes[0,0].set_title(\"t=0\")\n    axes[0,1].set_title(f\"t={m}\")\n    axes[0,2].set_title(f\"t={S.shape[-1]}\")\n    axes[2,1].set_xlabel(\"x\")\n    axes[0,0].set_ylabel(\"Susceptible \\n\")\n    axes[1,0].set_ylabel(\"Infected \\n y\")\n    axes[2,0].set_ylabel(\"Recovered \\n\")\n    plt.colorbar(im, ax=[axes[0,3],axes[1,3],axes[2,3]])\n\n    fig.suptitle('rows: susceptible, infected, recovered\\n\\\n        columns: grid view at different points in time; awareness, rate of SIR, cumulative SIR')\n\n    #n = np.average(SIR[:, :, 2], axis=(0, 1))\n    #print(n[-1])\n\n    fig.tight_layout()\n    fig.savefig(fname, transparent=False)\n    plt.show()",
   "execution_count": null,
   "outputs": []
  },
  {
   "cell_type": "code",
   "metadata": {
    "cell_id": "c90f4c6cb99e4da3a2d8c7633b91e886",
    "tags": [],
    "deepnote_to_be_reexecuted": false,
    "source_hash": "b623e53d",
    "execution_start": 1657560196510,
    "execution_millis": 1,
    "deepnote_cell_type": "code",
    "deepnote_cell_height": 81
   },
   "source": "",
   "execution_count": null,
   "outputs": []
  },
  {
   "cell_type": "markdown",
   "source": "<a style='text-decoration:none;line-height:16px;display:flex;color:#5B5B62;padding:10px;justify-content:end;' href='https://deepnote.com?utm_source=created-in-deepnote-cell&projectId=ac0f8ce2-3132-47be-a4d1-6216636e93ff' target=\"_blank\">\n<img alt='Created in deepnote.com' style='display:inline;max-height:16px;margin:0px;margin-right:7.5px;' src='data:image/svg+xml;base64,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' > </img>\nCreated in <span style='font-weight:600;margin-left:4px;'>Deepnote</span></a>",
   "metadata": {
    "tags": [],
    "created_in_deepnote_cell": true,
    "deepnote_cell_type": "markdown"
   }
  }
 ],
 "nbformat": 4,
 "nbformat_minor": 2,
 "metadata": {
  "orig_nbformat": 2,
  "deepnote": {},
  "deepnote_notebook_id": "7d831be6-e792-4b0c-8465-3e91f7923da5",
  "deepnote_execution_queue": []
 }
}